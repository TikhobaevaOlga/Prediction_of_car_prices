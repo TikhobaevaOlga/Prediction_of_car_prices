{
 "cells": [
  {
   "cell_type": "markdown",
   "metadata": {
    "id": "48_cKZfbK4gb",
    "toc": true
   },
   "source": [
    "<h1>Содержание<span class=\"tocSkip\"></span></h1>\n",
    "<div class=\"toc\"><ul class=\"toc-item\"><li><span><a href=\"#Подготовка-данных\" data-toc-modified-id=\"Подготовка-данных-1\"><span class=\"toc-item-num\">1&nbsp;&nbsp;</span>Подготовка данных</a></span><ul class=\"toc-item\"><li><span><a href=\"#Удаление-неиформативных-признаков-и-изменение-названий-столбцов\" data-toc-modified-id=\"Удаление-неиформативных-признаков-и-изменение-названий-столбцов-1.1\"><span class=\"toc-item-num\">1.1&nbsp;&nbsp;</span>Удаление неиформативных признаков и изменение названий столбцов</a></span></li><li><span><a href=\"#Работа-со-стилем-и-типами-данных\" data-toc-modified-id=\"Работа-со-стилем-и-типами-данных-1.2\"><span class=\"toc-item-num\">1.2&nbsp;&nbsp;</span>Работа со стилем и типами данных</a></span></li><li><span><a href=\"#Работа-с-пропусками\" data-toc-modified-id=\"Работа-с-пропусками-1.3\"><span class=\"toc-item-num\">1.3&nbsp;&nbsp;</span>Работа с пропусками</a></span></li><li><span><a href=\"#Поиск-и-удаление-дубликатов\" data-toc-modified-id=\"Поиск-и-удаление-дубликатов-1.4\"><span class=\"toc-item-num\">1.4&nbsp;&nbsp;</span>Поиск и удаление дубликатов</a></span></li><li><span><a href=\"#Работа-с-аномальными-значениями\" data-toc-modified-id=\"Работа-с-аномальными-значениями-1.5\"><span class=\"toc-item-num\">1.5&nbsp;&nbsp;</span>Работа с аномальными значениями</a></span></li><li><span><a href=\"#Изучение-корреляции-признаков\" data-toc-modified-id=\"Изучение-корреляции-признаков-1.6\"><span class=\"toc-item-num\">1.6&nbsp;&nbsp;</span>Изучение корреляции признаков</a></span></li><li><span><a href=\"#Подготовка-выборок-для-обучения-моделей\" data-toc-modified-id=\"Подготовка-выборок-для-обучения-моделей-1.7\"><span class=\"toc-item-num\">1.7&nbsp;&nbsp;</span>Подготовка выборок для обучения моделей</a></span></li></ul></li><li><span><a href=\"#Обучение-моделей\" data-toc-modified-id=\"Обучение-моделей-2\"><span class=\"toc-item-num\">2&nbsp;&nbsp;</span>Обучение моделей</a></span><ul class=\"toc-item\"><li><span><a href=\"#Базовые-модели\" data-toc-modified-id=\"Базовые-модели-2.1\"><span class=\"toc-item-num\">2.1&nbsp;&nbsp;</span>Базовые модели</a></span><ul class=\"toc-item\"><li><span><a href=\"#Гребневая-регрессия-(Ridge)\" data-toc-modified-id=\"Гребневая-регрессия-(Ridge)-2.1.1\"><span class=\"toc-item-num\">2.1.1&nbsp;&nbsp;</span>Гребневая регрессия (Ridge)</a></span></li><li><span><a href=\"#Дерево-решений\" data-toc-modified-id=\"Дерево-решений-2.1.2\"><span class=\"toc-item-num\">2.1.2&nbsp;&nbsp;</span>Дерево решений</a></span></li></ul></li><li><span><a href=\"#Градиентный-бустинг\" data-toc-modified-id=\"Градиентный-бустинг-2.2\"><span class=\"toc-item-num\">2.2&nbsp;&nbsp;</span>Градиентный бустинг</a></span><ul class=\"toc-item\"><li><span><a href=\"#LightGBM\" data-toc-modified-id=\"LightGBM-2.2.1\"><span class=\"toc-item-num\">2.2.1&nbsp;&nbsp;</span>LightGBM</a></span></li><li><span><a href=\"#CatBoost\" data-toc-modified-id=\"CatBoost-2.2.2\"><span class=\"toc-item-num\">2.2.2&nbsp;&nbsp;</span>CatBoost</a></span></li></ul></li><li><span><a href=\"#Сравнение-моделей\" data-toc-modified-id=\"Сравнение-моделей-2.3\"><span class=\"toc-item-num\">2.3&nbsp;&nbsp;</span>Сравнение моделей</a></span></li></ul></li><li><span><a href=\"#Анализ-модели\" data-toc-modified-id=\"Анализ-модели-3\"><span class=\"toc-item-num\">3&nbsp;&nbsp;</span>Анализ модели</a></span></li><li><span><a href=\"#Общий-вывод-по-проекту\" data-toc-modified-id=\"Общий-вывод-по-проекту-4\"><span class=\"toc-item-num\">4&nbsp;&nbsp;</span>Общий вывод по проекту</a></span></li><li><span><a href=\"#Чек-лист-проверки\" data-toc-modified-id=\"Чек-лист-проверки-5\"><span class=\"toc-item-num\">5&nbsp;&nbsp;</span>Чек-лист проверки</a></span></li></ul></div>"
   ]
  },
  {
   "cell_type": "markdown",
   "metadata": {
    "id": "WD2YbYDoK4gf"
   },
   "source": [
    "# Определение стоимости автомобилей"
   ]
  },
  {
   "cell_type": "markdown",
   "metadata": {
    "id": "iAslETt_K4gg"
   },
   "source": [
    "Сервис по продаже автомобилей с пробегом «Не бит, не крашен» разрабатывает приложение для привлечения новых клиентов. В нём можно быстро узнать рыночную стоимость своего автомобиля. В нашем распоряжении исторические данные: технические характеристики, комплектации и цены автомобилей. Нужно построить модель для определения стоимости. \n",
    "\n",
    "Заказчику важны:\n",
    "\n",
    "- качество предсказания;\n",
    "- скорость предсказания;\n",
    "- время обучения."
   ]
  },
  {
   "cell_type": "markdown",
   "metadata": {
    "id": "4cH4zicLK4gi"
   },
   "source": [
    "**План работ**\n",
    "\n",
    "1. Загрузить данные и изучить данные.\n",
    "2. Провести предобработку данных:\n",
    "    - Заполнить пропущенные значения и обработать аномалии в столбцах. \n",
    "    - Если среди признаков имеются неинформативные, удалить их.\n",
    "    - Подготовить выборки для обучения моделей.\n",
    "3. Обучить разные модели, одна из которых — LightGBM, как минимум одна — не бустинг. Для каждой модели попробуйте разные гиперпараметры.\n",
    "4. Проанализировать время обучения, время предсказания и качество моделей.\n",
    "5. Опираясь на критерии заказчика, выбрать лучшую модель и проверить её качество на тестовой выборке."
   ]
  },
  {
   "cell_type": "markdown",
   "metadata": {
    "id": "H49NEoehK4gn"
   },
   "source": [
    "## Подготовка данных"
   ]
  },
  {
   "cell_type": "code",
   "execution_count": 2,
   "metadata": {
    "id": "HCmelssUK4gq"
   },
   "outputs": [],
   "source": [
    "import warnings\n",
    "import math\n",
    "\n",
    "import pandas as pd\n",
    "import numpy as np\n",
    "import matplotlib.pyplot as plt\n",
    "import seaborn as sns\n",
    "\n",
    "from sklearn.model_selection import train_test_split, GridSearchCV, RandomizedSearchCV\n",
    "from sklearn.compose import make_column_transformer\n",
    "from sklearn.pipeline import make_pipeline\n",
    "from sklearn.preprocessing import OneHotEncoder, OrdinalEncoder, StandardScaler\n",
    "from sklearn.metrics import mean_squared_error\n",
    "\n",
    "from sklearn.linear_model import Ridge\n",
    "from sklearn.tree import DecisionTreeRegressor\n",
    "import lightgbm as lgb\n",
    "from catboost import CatBoostRegressor\n",
    "\n",
    "warnings.filterwarnings('ignore')"
   ]
  },
  {
   "cell_type": "code",
   "execution_count": 3,
   "metadata": {
    "id": "HGDYf6DcK4gy"
   },
   "outputs": [],
   "source": [
    "# загружаем датасет\n",
    "try:\n",
    "    data = pd.read_csv('/datasets/autos.csv')\n",
    "except:\n",
    "    data = pd.read_csv('https://code.s3.yandex.net/datasets/autos.csv')"
   ]
  },
  {
   "cell_type": "code",
   "execution_count": 4,
   "metadata": {
    "colab": {
     "base_uri": "https://localhost:8080/"
    },
    "id": "jf1nqFBAK4g5",
    "outputId": "5e2e6f22-4742-49e5-9fe4-a1bd0922bf58"
   },
   "outputs": [
    {
     "name": "stdout",
     "output_type": "stream",
     "text": [
      "<class 'pandas.core.frame.DataFrame'>\n",
      "RangeIndex: 354369 entries, 0 to 354368\n",
      "Data columns (total 16 columns):\n",
      " #   Column             Non-Null Count   Dtype \n",
      "---  ------             --------------   ----- \n",
      " 0   DateCrawled        354369 non-null  object\n",
      " 1   Price              354369 non-null  int64 \n",
      " 2   VehicleType        316879 non-null  object\n",
      " 3   RegistrationYear   354369 non-null  int64 \n",
      " 4   Gearbox            334536 non-null  object\n",
      " 5   Power              354369 non-null  int64 \n",
      " 6   Model              334664 non-null  object\n",
      " 7   Kilometer          354369 non-null  int64 \n",
      " 8   RegistrationMonth  354369 non-null  int64 \n",
      " 9   FuelType           321474 non-null  object\n",
      " 10  Brand              354369 non-null  object\n",
      " 11  Repaired           283215 non-null  object\n",
      " 12  DateCreated        354369 non-null  object\n",
      " 13  NumberOfPictures   354369 non-null  int64 \n",
      " 14  PostalCode         354369 non-null  int64 \n",
      " 15  LastSeen           354369 non-null  object\n",
      "dtypes: int64(7), object(9)\n",
      "memory usage: 43.3+ MB\n"
     ]
    }
   ],
   "source": [
    "data.info()"
   ]
  },
  {
   "cell_type": "code",
   "execution_count": 5,
   "metadata": {
    "colab": {
     "base_uri": "https://localhost:8080/",
     "height": 763
    },
    "id": "rY3uA4osK4g8",
    "outputId": "bceb74ea-9c04-43f9-ad16-ba8a74dd083b"
   },
   "outputs": [
    {
     "data": {
      "text/html": [
       "<div>\n",
       "<style scoped>\n",
       "    .dataframe tbody tr th:only-of-type {\n",
       "        vertical-align: middle;\n",
       "    }\n",
       "\n",
       "    .dataframe tbody tr th {\n",
       "        vertical-align: top;\n",
       "    }\n",
       "\n",
       "    .dataframe thead th {\n",
       "        text-align: right;\n",
       "    }\n",
       "</style>\n",
       "<table border=\"1\" class=\"dataframe\">\n",
       "  <thead>\n",
       "    <tr style=\"text-align: right;\">\n",
       "      <th></th>\n",
       "      <th>DateCrawled</th>\n",
       "      <th>Price</th>\n",
       "      <th>VehicleType</th>\n",
       "      <th>RegistrationYear</th>\n",
       "      <th>Gearbox</th>\n",
       "      <th>Power</th>\n",
       "      <th>Model</th>\n",
       "      <th>Kilometer</th>\n",
       "      <th>RegistrationMonth</th>\n",
       "      <th>FuelType</th>\n",
       "      <th>Brand</th>\n",
       "      <th>Repaired</th>\n",
       "      <th>DateCreated</th>\n",
       "      <th>NumberOfPictures</th>\n",
       "      <th>PostalCode</th>\n",
       "      <th>LastSeen</th>\n",
       "    </tr>\n",
       "  </thead>\n",
       "  <tbody>\n",
       "    <tr>\n",
       "      <th>0</th>\n",
       "      <td>2016-03-24 11:52:17</td>\n",
       "      <td>480</td>\n",
       "      <td>NaN</td>\n",
       "      <td>1993</td>\n",
       "      <td>manual</td>\n",
       "      <td>0</td>\n",
       "      <td>golf</td>\n",
       "      <td>150000</td>\n",
       "      <td>0</td>\n",
       "      <td>petrol</td>\n",
       "      <td>volkswagen</td>\n",
       "      <td>NaN</td>\n",
       "      <td>2016-03-24 00:00:00</td>\n",
       "      <td>0</td>\n",
       "      <td>70435</td>\n",
       "      <td>2016-04-07 03:16:57</td>\n",
       "    </tr>\n",
       "    <tr>\n",
       "      <th>1</th>\n",
       "      <td>2016-03-24 10:58:45</td>\n",
       "      <td>18300</td>\n",
       "      <td>coupe</td>\n",
       "      <td>2011</td>\n",
       "      <td>manual</td>\n",
       "      <td>190</td>\n",
       "      <td>NaN</td>\n",
       "      <td>125000</td>\n",
       "      <td>5</td>\n",
       "      <td>gasoline</td>\n",
       "      <td>audi</td>\n",
       "      <td>yes</td>\n",
       "      <td>2016-03-24 00:00:00</td>\n",
       "      <td>0</td>\n",
       "      <td>66954</td>\n",
       "      <td>2016-04-07 01:46:50</td>\n",
       "    </tr>\n",
       "    <tr>\n",
       "      <th>2</th>\n",
       "      <td>2016-03-14 12:52:21</td>\n",
       "      <td>9800</td>\n",
       "      <td>suv</td>\n",
       "      <td>2004</td>\n",
       "      <td>auto</td>\n",
       "      <td>163</td>\n",
       "      <td>grand</td>\n",
       "      <td>125000</td>\n",
       "      <td>8</td>\n",
       "      <td>gasoline</td>\n",
       "      <td>jeep</td>\n",
       "      <td>NaN</td>\n",
       "      <td>2016-03-14 00:00:00</td>\n",
       "      <td>0</td>\n",
       "      <td>90480</td>\n",
       "      <td>2016-04-05 12:47:46</td>\n",
       "    </tr>\n",
       "    <tr>\n",
       "      <th>3</th>\n",
       "      <td>2016-03-17 16:54:04</td>\n",
       "      <td>1500</td>\n",
       "      <td>small</td>\n",
       "      <td>2001</td>\n",
       "      <td>manual</td>\n",
       "      <td>75</td>\n",
       "      <td>golf</td>\n",
       "      <td>150000</td>\n",
       "      <td>6</td>\n",
       "      <td>petrol</td>\n",
       "      <td>volkswagen</td>\n",
       "      <td>no</td>\n",
       "      <td>2016-03-17 00:00:00</td>\n",
       "      <td>0</td>\n",
       "      <td>91074</td>\n",
       "      <td>2016-03-17 17:40:17</td>\n",
       "    </tr>\n",
       "    <tr>\n",
       "      <th>4</th>\n",
       "      <td>2016-03-31 17:25:20</td>\n",
       "      <td>3600</td>\n",
       "      <td>small</td>\n",
       "      <td>2008</td>\n",
       "      <td>manual</td>\n",
       "      <td>69</td>\n",
       "      <td>fabia</td>\n",
       "      <td>90000</td>\n",
       "      <td>7</td>\n",
       "      <td>gasoline</td>\n",
       "      <td>skoda</td>\n",
       "      <td>no</td>\n",
       "      <td>2016-03-31 00:00:00</td>\n",
       "      <td>0</td>\n",
       "      <td>60437</td>\n",
       "      <td>2016-04-06 10:17:21</td>\n",
       "    </tr>\n",
       "    <tr>\n",
       "      <th>5</th>\n",
       "      <td>2016-04-04 17:36:23</td>\n",
       "      <td>650</td>\n",
       "      <td>sedan</td>\n",
       "      <td>1995</td>\n",
       "      <td>manual</td>\n",
       "      <td>102</td>\n",
       "      <td>3er</td>\n",
       "      <td>150000</td>\n",
       "      <td>10</td>\n",
       "      <td>petrol</td>\n",
       "      <td>bmw</td>\n",
       "      <td>yes</td>\n",
       "      <td>2016-04-04 00:00:00</td>\n",
       "      <td>0</td>\n",
       "      <td>33775</td>\n",
       "      <td>2016-04-06 19:17:07</td>\n",
       "    </tr>\n",
       "    <tr>\n",
       "      <th>6</th>\n",
       "      <td>2016-04-01 20:48:51</td>\n",
       "      <td>2200</td>\n",
       "      <td>convertible</td>\n",
       "      <td>2004</td>\n",
       "      <td>manual</td>\n",
       "      <td>109</td>\n",
       "      <td>2_reihe</td>\n",
       "      <td>150000</td>\n",
       "      <td>8</td>\n",
       "      <td>petrol</td>\n",
       "      <td>peugeot</td>\n",
       "      <td>no</td>\n",
       "      <td>2016-04-01 00:00:00</td>\n",
       "      <td>0</td>\n",
       "      <td>67112</td>\n",
       "      <td>2016-04-05 18:18:39</td>\n",
       "    </tr>\n",
       "    <tr>\n",
       "      <th>7</th>\n",
       "      <td>2016-03-21 18:54:38</td>\n",
       "      <td>0</td>\n",
       "      <td>sedan</td>\n",
       "      <td>1980</td>\n",
       "      <td>manual</td>\n",
       "      <td>50</td>\n",
       "      <td>other</td>\n",
       "      <td>40000</td>\n",
       "      <td>7</td>\n",
       "      <td>petrol</td>\n",
       "      <td>volkswagen</td>\n",
       "      <td>no</td>\n",
       "      <td>2016-03-21 00:00:00</td>\n",
       "      <td>0</td>\n",
       "      <td>19348</td>\n",
       "      <td>2016-03-25 16:47:58</td>\n",
       "    </tr>\n",
       "    <tr>\n",
       "      <th>8</th>\n",
       "      <td>2016-04-04 23:42:13</td>\n",
       "      <td>14500</td>\n",
       "      <td>bus</td>\n",
       "      <td>2014</td>\n",
       "      <td>manual</td>\n",
       "      <td>125</td>\n",
       "      <td>c_max</td>\n",
       "      <td>30000</td>\n",
       "      <td>8</td>\n",
       "      <td>petrol</td>\n",
       "      <td>ford</td>\n",
       "      <td>NaN</td>\n",
       "      <td>2016-04-04 00:00:00</td>\n",
       "      <td>0</td>\n",
       "      <td>94505</td>\n",
       "      <td>2016-04-04 23:42:13</td>\n",
       "    </tr>\n",
       "    <tr>\n",
       "      <th>9</th>\n",
       "      <td>2016-03-17 10:53:50</td>\n",
       "      <td>999</td>\n",
       "      <td>small</td>\n",
       "      <td>1998</td>\n",
       "      <td>manual</td>\n",
       "      <td>101</td>\n",
       "      <td>golf</td>\n",
       "      <td>150000</td>\n",
       "      <td>0</td>\n",
       "      <td>NaN</td>\n",
       "      <td>volkswagen</td>\n",
       "      <td>NaN</td>\n",
       "      <td>2016-03-17 00:00:00</td>\n",
       "      <td>0</td>\n",
       "      <td>27472</td>\n",
       "      <td>2016-03-31 17:17:06</td>\n",
       "    </tr>\n",
       "  </tbody>\n",
       "</table>\n",
       "</div>"
      ],
      "text/plain": [
       "           DateCrawled  Price  VehicleType  RegistrationYear Gearbox  Power  \\\n",
       "0  2016-03-24 11:52:17    480          NaN              1993  manual      0   \n",
       "1  2016-03-24 10:58:45  18300        coupe              2011  manual    190   \n",
       "2  2016-03-14 12:52:21   9800          suv              2004    auto    163   \n",
       "3  2016-03-17 16:54:04   1500        small              2001  manual     75   \n",
       "4  2016-03-31 17:25:20   3600        small              2008  manual     69   \n",
       "5  2016-04-04 17:36:23    650        sedan              1995  manual    102   \n",
       "6  2016-04-01 20:48:51   2200  convertible              2004  manual    109   \n",
       "7  2016-03-21 18:54:38      0        sedan              1980  manual     50   \n",
       "8  2016-04-04 23:42:13  14500          bus              2014  manual    125   \n",
       "9  2016-03-17 10:53:50    999        small              1998  manual    101   \n",
       "\n",
       "     Model  Kilometer  RegistrationMonth  FuelType       Brand Repaired  \\\n",
       "0     golf     150000                  0    petrol  volkswagen      NaN   \n",
       "1      NaN     125000                  5  gasoline        audi      yes   \n",
       "2    grand     125000                  8  gasoline        jeep      NaN   \n",
       "3     golf     150000                  6    petrol  volkswagen       no   \n",
       "4    fabia      90000                  7  gasoline       skoda       no   \n",
       "5      3er     150000                 10    petrol         bmw      yes   \n",
       "6  2_reihe     150000                  8    petrol     peugeot       no   \n",
       "7    other      40000                  7    petrol  volkswagen       no   \n",
       "8    c_max      30000                  8    petrol        ford      NaN   \n",
       "9     golf     150000                  0       NaN  volkswagen      NaN   \n",
       "\n",
       "           DateCreated  NumberOfPictures  PostalCode             LastSeen  \n",
       "0  2016-03-24 00:00:00                 0       70435  2016-04-07 03:16:57  \n",
       "1  2016-03-24 00:00:00                 0       66954  2016-04-07 01:46:50  \n",
       "2  2016-03-14 00:00:00                 0       90480  2016-04-05 12:47:46  \n",
       "3  2016-03-17 00:00:00                 0       91074  2016-03-17 17:40:17  \n",
       "4  2016-03-31 00:00:00                 0       60437  2016-04-06 10:17:21  \n",
       "5  2016-04-04 00:00:00                 0       33775  2016-04-06 19:17:07  \n",
       "6  2016-04-01 00:00:00                 0       67112  2016-04-05 18:18:39  \n",
       "7  2016-03-21 00:00:00                 0       19348  2016-03-25 16:47:58  \n",
       "8  2016-04-04 00:00:00                 0       94505  2016-04-04 23:42:13  \n",
       "9  2016-03-17 00:00:00                 0       27472  2016-03-31 17:17:06  "
      ]
     },
     "execution_count": 5,
     "metadata": {},
     "output_type": "execute_result"
    }
   ],
   "source": [
    "data.head(10)"
   ]
  },
  {
   "cell_type": "markdown",
   "metadata": {
    "id": "HdZLkKRuK4g9"
   },
   "source": [
    "### Удаление неиформативных признаков и изменение названий столбцов"
   ]
  },
  {
   "cell_type": "code",
   "execution_count": 6,
   "metadata": {
    "colab": {
     "base_uri": "https://localhost:8080/"
    },
    "id": "8NcRqqqVK4g-",
    "outputId": "8aa07a63-bd48-4918-d44c-37b6d927b9d3"
   },
   "outputs": [
    {
     "name": "stdout",
     "output_type": "stream",
     "text": [
      "<class 'pandas.core.frame.DataFrame'>\n",
      "RangeIndex: 354369 entries, 0 to 354368\n",
      "Data columns (total 11 columns):\n",
      " #   Column            Non-Null Count   Dtype \n",
      "---  ------            --------------   ----- \n",
      " 0   Price             354369 non-null  int64 \n",
      " 1   VehicleType       316879 non-null  object\n",
      " 2   RegistrationYear  354369 non-null  int64 \n",
      " 3   Gearbox           334536 non-null  object\n",
      " 4   Power             354369 non-null  int64 \n",
      " 5   Model             334664 non-null  object\n",
      " 6   Kilometer         354369 non-null  int64 \n",
      " 7   FuelType          321474 non-null  object\n",
      " 8   Brand             354369 non-null  object\n",
      " 9   Repaired          283215 non-null  object\n",
      " 10  DateCreated       354369 non-null  object\n",
      "dtypes: int64(4), object(7)\n",
      "memory usage: 29.7+ MB\n"
     ]
    }
   ],
   "source": [
    "# удалим неинформативные признаки\n",
    "data = data.drop(['DateCrawled', 'RegistrationMonth', \n",
    "                  'NumberOfPictures','PostalCode', 'LastSeen'], axis=1)\n",
    "data.info()"
   ]
  },
  {
   "cell_type": "markdown",
   "metadata": {
    "id": "cPomFqvnK4hK"
   },
   "source": [
    "### Работа со стилем и типами данных"
   ]
  },
  {
   "cell_type": "code",
   "execution_count": 7,
   "metadata": {
    "id": "2Vsh9gFZK4hM",
    "scrolled": true
   },
   "outputs": [],
   "source": [
    "# изменим названия столбцов\n",
    "data.columns = ['price', 'vehicle_type', 'registration_year', 'gearbox', 'power', \n",
    "                'model', 'kilometer', 'fuel_type', 'brand', 'repaired', 'date_created']"
   ]
  },
  {
   "cell_type": "code",
   "execution_count": 8,
   "metadata": {
    "id": "zQ-zotg8K4hN"
   },
   "outputs": [],
   "source": [
    "# изменим тип данных в столбцах, где это необходимо\n",
    "data['date_created'] = pd.to_datetime(data['date_created'])"
   ]
  },
  {
   "cell_type": "code",
   "execution_count": 9,
   "metadata": {
    "colab": {
     "base_uri": "https://localhost:8080/"
    },
    "id": "XJBDuJQeK4hQ",
    "outputId": "5dde3264-de93-43c4-c8d0-44280f6e1ffe"
   },
   "outputs": [
    {
     "name": "stdout",
     "output_type": "stream",
     "text": [
      "<class 'pandas.core.frame.DataFrame'>\n",
      "RangeIndex: 354369 entries, 0 to 354368\n",
      "Data columns (total 11 columns):\n",
      " #   Column             Non-Null Count   Dtype         \n",
      "---  ------             --------------   -----         \n",
      " 0   price              354369 non-null  int64         \n",
      " 1   vehicle_type       316879 non-null  object        \n",
      " 2   registration_year  354369 non-null  int64         \n",
      " 3   gearbox            334536 non-null  object        \n",
      " 4   power              354369 non-null  int64         \n",
      " 5   model              334664 non-null  object        \n",
      " 6   kilometer          354369 non-null  int64         \n",
      " 7   fuel_type          321474 non-null  object        \n",
      " 8   brand              354369 non-null  object        \n",
      " 9   repaired           283215 non-null  object        \n",
      " 10  date_created       354369 non-null  datetime64[ns]\n",
      "dtypes: datetime64[ns](1), int64(4), object(6)\n",
      "memory usage: 29.7+ MB\n"
     ]
    }
   ],
   "source": [
    "data.info()"
   ]
  },
  {
   "cell_type": "markdown",
   "metadata": {
    "id": "A6RSctxwK4hT"
   },
   "source": [
    "### Работа с пропусками"
   ]
  },
  {
   "cell_type": "code",
   "execution_count": 10,
   "metadata": {
    "id": "7Exwj5i6K4hW"
   },
   "outputs": [],
   "source": [
    "# функция для построения графика, отражающего доли пропусков\n",
    "def pass_value_barh(df):\n",
    "    if df.isna().sum().sum() > 0:\n",
    "        (\n",
    "            (df.isna().mean()*100)\n",
    "            .to_frame()\n",
    "            .rename(columns = {0:'space'})\n",
    "            .query('space > 0')\n",
    "            .sort_values(by = 'space', ascending = True)\n",
    "            .plot(kind= 'barh', figsize=(10, 8), legend = False, fontsize = 12)\n",
    "            .set_title('Доля пропусков' + \"\\n\", fontsize = 14)    \n",
    "        )   \n",
    "    else:\n",
    "        print('Пропусков не осталось!')"
   ]
  },
  {
   "cell_type": "code",
   "execution_count": 11,
   "metadata": {
    "colab": {
     "base_uri": "https://localhost:8080/",
     "height": 519
    },
    "id": "i4YGoOjpK4hY",
    "outputId": "148c6512-772a-4c22-b1cf-95c08c8e6c19"
   },
   "outputs": [
    {
     "data": {
      "image/png": "[encoded data removed]",
      "text/plain": [
       "<Figure size 720x576 with 1 Axes>"
      ]
     },
     "metadata": {
      "needs_background": "light"
     },
     "output_type": "display_data"
    }
   ],
   "source": [
    "# визуализация доли пропусков в каждом столбце\n",
    "pass_value_barh(data)"
   ]
  },
  {
   "cell_type": "code",
   "execution_count": 12,
   "metadata": {
    "colab": {
     "base_uri": "https://localhost:8080/",
     "height": 248
    },
    "id": "Wofxd9ivK4hZ",
    "outputId": "0cd249b3-cafb-4f4f-f8dc-8b2d10abe9cf",
    "scrolled": true
   },
   "outputs": [
    {
     "data": {
      "text/html": [
       "<div>\n",
       "<style scoped>\n",
       "    .dataframe tbody tr th:only-of-type {\n",
       "        vertical-align: middle;\n",
       "    }\n",
       "\n",
       "    .dataframe tbody tr th {\n",
       "        vertical-align: top;\n",
       "    }\n",
       "\n",
       "    .dataframe thead th {\n",
       "        text-align: right;\n",
       "    }\n",
       "</style>\n",
       "<table border=\"1\" class=\"dataframe\">\n",
       "  <thead>\n",
       "    <tr style=\"text-align: right;\">\n",
       "      <th></th>\n",
       "      <th>price</th>\n",
       "      <th>vehicle_type</th>\n",
       "      <th>registration_year</th>\n",
       "      <th>gearbox</th>\n",
       "      <th>power</th>\n",
       "      <th>model</th>\n",
       "      <th>kilometer</th>\n",
       "      <th>fuel_type</th>\n",
       "      <th>brand</th>\n",
       "      <th>repaired</th>\n",
       "      <th>date_created</th>\n",
       "    </tr>\n",
       "  </thead>\n",
       "  <tbody>\n",
       "    <tr>\n",
       "      <th>0</th>\n",
       "      <td>480</td>\n",
       "      <td>NaN</td>\n",
       "      <td>1993</td>\n",
       "      <td>manual</td>\n",
       "      <td>0</td>\n",
       "      <td>golf</td>\n",
       "      <td>150000</td>\n",
       "      <td>petrol</td>\n",
       "      <td>volkswagen</td>\n",
       "      <td>NaN</td>\n",
       "      <td>2016-03-24</td>\n",
       "    </tr>\n",
       "    <tr>\n",
       "      <th>1</th>\n",
       "      <td>18300</td>\n",
       "      <td>coupe</td>\n",
       "      <td>2011</td>\n",
       "      <td>manual</td>\n",
       "      <td>190</td>\n",
       "      <td>NaN</td>\n",
       "      <td>125000</td>\n",
       "      <td>gasoline</td>\n",
       "      <td>audi</td>\n",
       "      <td>yes</td>\n",
       "      <td>2016-03-24</td>\n",
       "    </tr>\n",
       "    <tr>\n",
       "      <th>2</th>\n",
       "      <td>9800</td>\n",
       "      <td>suv</td>\n",
       "      <td>2004</td>\n",
       "      <td>auto</td>\n",
       "      <td>163</td>\n",
       "      <td>grand</td>\n",
       "      <td>125000</td>\n",
       "      <td>gasoline</td>\n",
       "      <td>jeep</td>\n",
       "      <td>NaN</td>\n",
       "      <td>2016-03-14</td>\n",
       "    </tr>\n",
       "    <tr>\n",
       "      <th>3</th>\n",
       "      <td>1500</td>\n",
       "      <td>small</td>\n",
       "      <td>2001</td>\n",
       "      <td>manual</td>\n",
       "      <td>75</td>\n",
       "      <td>golf</td>\n",
       "      <td>150000</td>\n",
       "      <td>petrol</td>\n",
       "      <td>volkswagen</td>\n",
       "      <td>no</td>\n",
       "      <td>2016-03-17</td>\n",
       "    </tr>\n",
       "    <tr>\n",
       "      <th>4</th>\n",
       "      <td>3600</td>\n",
       "      <td>small</td>\n",
       "      <td>2008</td>\n",
       "      <td>manual</td>\n",
       "      <td>69</td>\n",
       "      <td>fabia</td>\n",
       "      <td>90000</td>\n",
       "      <td>gasoline</td>\n",
       "      <td>skoda</td>\n",
       "      <td>no</td>\n",
       "      <td>2016-03-31</td>\n",
       "    </tr>\n",
       "  </tbody>\n",
       "</table>\n",
       "</div>"
      ],
      "text/plain": [
       "   price vehicle_type  registration_year gearbox  power  model  kilometer  \\\n",
       "0    480          NaN               1993  manual      0   golf     150000   \n",
       "1  18300        coupe               2011  manual    190    NaN     125000   \n",
       "2   9800          suv               2004    auto    163  grand     125000   \n",
       "3   1500        small               2001  manual     75   golf     150000   \n",
       "4   3600        small               2008  manual     69  fabia      90000   \n",
       "\n",
       "  fuel_type       brand repaired date_created  \n",
       "0    petrol  volkswagen      NaN   2016-03-24  \n",
       "1  gasoline        audi      yes   2016-03-24  \n",
       "2  gasoline        jeep      NaN   2016-03-14  \n",
       "3    petrol  volkswagen       no   2016-03-17  \n",
       "4  gasoline       skoda       no   2016-03-31  "
      ]
     },
     "execution_count": 12,
     "metadata": {},
     "output_type": "execute_result"
    }
   ],
   "source": [
    "data.head()"
   ]
  },
  {
   "cell_type": "code",
   "execution_count": 13,
   "metadata": {
    "colab": {
     "base_uri": "https://localhost:8080/",
     "height": 248
    },
    "id": "MjLIFjafK4hc",
    "outputId": "c786eed2-0a63-41a0-ffc3-a2096d473b51"
   },
   "outputs": [
    {
     "data": {
      "text/html": [
       "<div>\n",
       "<style scoped>\n",
       "    .dataframe tbody tr th:only-of-type {\n",
       "        vertical-align: middle;\n",
       "    }\n",
       "\n",
       "    .dataframe tbody tr th {\n",
       "        vertical-align: top;\n",
       "    }\n",
       "\n",
       "    .dataframe thead th {\n",
       "        text-align: right;\n",
       "    }\n",
       "</style>\n",
       "<table border=\"1\" class=\"dataframe\">\n",
       "  <thead>\n",
       "    <tr style=\"text-align: right;\">\n",
       "      <th></th>\n",
       "      <th>price</th>\n",
       "      <th>vehicle_type</th>\n",
       "      <th>registration_year</th>\n",
       "      <th>gearbox</th>\n",
       "      <th>power</th>\n",
       "      <th>model</th>\n",
       "      <th>kilometer</th>\n",
       "      <th>fuel_type</th>\n",
       "      <th>brand</th>\n",
       "      <th>repaired</th>\n",
       "      <th>date_created</th>\n",
       "    </tr>\n",
       "  </thead>\n",
       "  <tbody>\n",
       "    <tr>\n",
       "      <th>0</th>\n",
       "      <td>480</td>\n",
       "      <td>NaN</td>\n",
       "      <td>1993</td>\n",
       "      <td>manual</td>\n",
       "      <td>0</td>\n",
       "      <td>golf</td>\n",
       "      <td>150000</td>\n",
       "      <td>petrol</td>\n",
       "      <td>volkswagen</td>\n",
       "      <td>0</td>\n",
       "      <td>2016-03-24</td>\n",
       "    </tr>\n",
       "    <tr>\n",
       "      <th>1</th>\n",
       "      <td>18300</td>\n",
       "      <td>coupe</td>\n",
       "      <td>2011</td>\n",
       "      <td>manual</td>\n",
       "      <td>190</td>\n",
       "      <td>NaN</td>\n",
       "      <td>125000</td>\n",
       "      <td>gasoline</td>\n",
       "      <td>audi</td>\n",
       "      <td>1</td>\n",
       "      <td>2016-03-24</td>\n",
       "    </tr>\n",
       "    <tr>\n",
       "      <th>2</th>\n",
       "      <td>9800</td>\n",
       "      <td>suv</td>\n",
       "      <td>2004</td>\n",
       "      <td>auto</td>\n",
       "      <td>163</td>\n",
       "      <td>grand</td>\n",
       "      <td>125000</td>\n",
       "      <td>gasoline</td>\n",
       "      <td>jeep</td>\n",
       "      <td>0</td>\n",
       "      <td>2016-03-14</td>\n",
       "    </tr>\n",
       "    <tr>\n",
       "      <th>3</th>\n",
       "      <td>1500</td>\n",
       "      <td>small</td>\n",
       "      <td>2001</td>\n",
       "      <td>manual</td>\n",
       "      <td>75</td>\n",
       "      <td>golf</td>\n",
       "      <td>150000</td>\n",
       "      <td>petrol</td>\n",
       "      <td>volkswagen</td>\n",
       "      <td>0</td>\n",
       "      <td>2016-03-17</td>\n",
       "    </tr>\n",
       "    <tr>\n",
       "      <th>4</th>\n",
       "      <td>3600</td>\n",
       "      <td>small</td>\n",
       "      <td>2008</td>\n",
       "      <td>manual</td>\n",
       "      <td>69</td>\n",
       "      <td>fabia</td>\n",
       "      <td>90000</td>\n",
       "      <td>gasoline</td>\n",
       "      <td>skoda</td>\n",
       "      <td>0</td>\n",
       "      <td>2016-03-31</td>\n",
       "    </tr>\n",
       "  </tbody>\n",
       "</table>\n",
       "</div>"
      ],
      "text/plain": [
       "   price vehicle_type  registration_year gearbox  power  model  kilometer  \\\n",
       "0    480          NaN               1993  manual      0   golf     150000   \n",
       "1  18300        coupe               2011  manual    190    NaN     125000   \n",
       "2   9800          suv               2004    auto    163  grand     125000   \n",
       "3   1500        small               2001  manual     75   golf     150000   \n",
       "4   3600        small               2008  manual     69  fabia      90000   \n",
       "\n",
       "  fuel_type       brand repaired date_created  \n",
       "0    petrol  volkswagen        0   2016-03-24  \n",
       "1  gasoline        audi        1   2016-03-24  \n",
       "2  gasoline        jeep        0   2016-03-14  \n",
       "3    petrol  volkswagen        0   2016-03-17  \n",
       "4  gasoline       skoda        0   2016-03-31  "
      ]
     },
     "execution_count": 13,
     "metadata": {},
     "output_type": "execute_result"
    }
   ],
   "source": [
    "# заполним пропуски и заменим значения в столбце \"repaired\"\n",
    "data['repaired'] = data['repaired'].fillna('no')\n",
    "data.loc[(data.repaired == 'no'), 'repaired'] = 0\n",
    "data.loc[(data.repaired == 'yes'), 'repaired'] = 1\n",
    "\n",
    "data.head()"
   ]
  },
  {
   "cell_type": "code",
   "execution_count": 14,
   "metadata": {
    "colab": {
     "base_uri": "https://localhost:8080/",
     "height": 248
    },
    "id": "9hV_UBbYK4he",
    "outputId": "49d91fb4-9234-4720-a8a4-cd050e2d8348"
   },
   "outputs": [
    {
     "data": {
      "text/html": [
       "<div>\n",
       "<style scoped>\n",
       "    .dataframe tbody tr th:only-of-type {\n",
       "        vertical-align: middle;\n",
       "    }\n",
       "\n",
       "    .dataframe tbody tr th {\n",
       "        vertical-align: top;\n",
       "    }\n",
       "\n",
       "    .dataframe thead th {\n",
       "        text-align: right;\n",
       "    }\n",
       "</style>\n",
       "<table border=\"1\" class=\"dataframe\">\n",
       "  <thead>\n",
       "    <tr style=\"text-align: right;\">\n",
       "      <th></th>\n",
       "      <th>price</th>\n",
       "      <th>vehicle_type</th>\n",
       "      <th>registration_year</th>\n",
       "      <th>gearbox</th>\n",
       "      <th>power</th>\n",
       "      <th>model</th>\n",
       "      <th>kilometer</th>\n",
       "      <th>fuel_type</th>\n",
       "      <th>brand</th>\n",
       "      <th>repaired</th>\n",
       "      <th>date_created</th>\n",
       "    </tr>\n",
       "  </thead>\n",
       "  <tbody>\n",
       "    <tr>\n",
       "      <th>0</th>\n",
       "      <td>480</td>\n",
       "      <td>unknown</td>\n",
       "      <td>1993</td>\n",
       "      <td>manual</td>\n",
       "      <td>0</td>\n",
       "      <td>golf</td>\n",
       "      <td>150000</td>\n",
       "      <td>petrol</td>\n",
       "      <td>volkswagen</td>\n",
       "      <td>0</td>\n",
       "      <td>2016-03-24</td>\n",
       "    </tr>\n",
       "    <tr>\n",
       "      <th>1</th>\n",
       "      <td>18300</td>\n",
       "      <td>coupe</td>\n",
       "      <td>2011</td>\n",
       "      <td>manual</td>\n",
       "      <td>190</td>\n",
       "      <td>unknown</td>\n",
       "      <td>125000</td>\n",
       "      <td>gasoline</td>\n",
       "      <td>audi</td>\n",
       "      <td>1</td>\n",
       "      <td>2016-03-24</td>\n",
       "    </tr>\n",
       "    <tr>\n",
       "      <th>2</th>\n",
       "      <td>9800</td>\n",
       "      <td>suv</td>\n",
       "      <td>2004</td>\n",
       "      <td>auto</td>\n",
       "      <td>163</td>\n",
       "      <td>grand</td>\n",
       "      <td>125000</td>\n",
       "      <td>gasoline</td>\n",
       "      <td>jeep</td>\n",
       "      <td>0</td>\n",
       "      <td>2016-03-14</td>\n",
       "    </tr>\n",
       "    <tr>\n",
       "      <th>3</th>\n",
       "      <td>1500</td>\n",
       "      <td>small</td>\n",
       "      <td>2001</td>\n",
       "      <td>manual</td>\n",
       "      <td>75</td>\n",
       "      <td>golf</td>\n",
       "      <td>150000</td>\n",
       "      <td>petrol</td>\n",
       "      <td>volkswagen</td>\n",
       "      <td>0</td>\n",
       "      <td>2016-03-17</td>\n",
       "    </tr>\n",
       "    <tr>\n",
       "      <th>4</th>\n",
       "      <td>3600</td>\n",
       "      <td>small</td>\n",
       "      <td>2008</td>\n",
       "      <td>manual</td>\n",
       "      <td>69</td>\n",
       "      <td>fabia</td>\n",
       "      <td>90000</td>\n",
       "      <td>gasoline</td>\n",
       "      <td>skoda</td>\n",
       "      <td>0</td>\n",
       "      <td>2016-03-31</td>\n",
       "    </tr>\n",
       "  </tbody>\n",
       "</table>\n",
       "</div>"
      ],
      "text/plain": [
       "   price vehicle_type  registration_year gearbox  power    model  kilometer  \\\n",
       "0    480      unknown               1993  manual      0     golf     150000   \n",
       "1  18300        coupe               2011  manual    190  unknown     125000   \n",
       "2   9800          suv               2004    auto    163    grand     125000   \n",
       "3   1500        small               2001  manual     75     golf     150000   \n",
       "4   3600        small               2008  manual     69    fabia      90000   \n",
       "\n",
       "  fuel_type       brand  repaired date_created  \n",
       "0    petrol  volkswagen         0   2016-03-24  \n",
       "1  gasoline        audi         1   2016-03-24  \n",
       "2  gasoline        jeep         0   2016-03-14  \n",
       "3    petrol  volkswagen         0   2016-03-17  \n",
       "4  gasoline       skoda         0   2016-03-31  "
      ]
     },
     "execution_count": 14,
     "metadata": {},
     "output_type": "execute_result"
    }
   ],
   "source": [
    "# заполним пропуски в других столбцах\n",
    "data = data.fillna('unknown')\n",
    "\n",
    "data.head()"
   ]
  },
  {
   "cell_type": "code",
   "execution_count": 15,
   "metadata": {
    "colab": {
     "base_uri": "https://localhost:8080/"
    },
    "id": "ln13u5BkK4hg",
    "outputId": "e2629e68-9010-4645-ba30-636eede505e0"
   },
   "outputs": [
    {
     "name": "stdout",
     "output_type": "stream",
     "text": [
      "Пропусков не осталось!\n"
     ]
    }
   ],
   "source": [
    "# проверяем, что пропусков не осталось\n",
    "pass_value_barh(data)"
   ]
  },
  {
   "cell_type": "markdown",
   "metadata": {
    "id": "Yxzm4CgvK4hm"
   },
   "source": [
    "**В столбце, который показывает была ли машина в ремонте, заменим все пустые значения на \"no\"**. Так можно поступить, так как при заполнении данного признак, если машина не ремонтировалась, графу могли отставлять пустой. Затем **поменяем значения \"yes\" на 1, а \"no\" на 0**.\n",
    "\n",
    "Все остальные столбцы с пропусками отражают категориальные признаки: тип автомобильного кузова, тип топлива, тип коробки передач, модель автомобиля. **Заполним эти пропуски значением \"unknown\"**."
   ]
  },
  {
   "cell_type": "markdown",
   "metadata": {
    "id": "2I5Ic_4YK4hn"
   },
   "source": [
    "### Поиск и удаление дубликатов"
   ]
  },
  {
   "cell_type": "code",
   "execution_count": 16,
   "metadata": {
    "colab": {
     "base_uri": "https://localhost:8080/"
    },
    "id": "zDmckFbPK4hn",
    "outputId": "5f6c828d-13be-46bf-8a07-7248f603ad7e"
   },
   "outputs": [
    {
     "data": {
      "text/plain": [
       "15062"
      ]
     },
     "execution_count": 16,
     "metadata": {},
     "output_type": "execute_result"
    }
   ],
   "source": [
    "# ищем полные дубликаты\n",
    "data.duplicated().sum()"
   ]
  },
  {
   "cell_type": "code",
   "execution_count": 17,
   "metadata": {
    "colab": {
     "base_uri": "https://localhost:8080/"
    },
    "id": "xxp7Ng5MK4ho",
    "outputId": "101ba5a5-8167-46ca-96a1-6a784b22cd54"
   },
   "outputs": [
    {
     "data": {
      "text/plain": [
       "0"
      ]
     },
     "execution_count": 17,
     "metadata": {},
     "output_type": "execute_result"
    }
   ],
   "source": [
    "# удаляем полные дубликаты\n",
    "data = data.drop_duplicates()\n",
    "\n",
    "data.duplicated().sum()"
   ]
  },
  {
   "cell_type": "markdown",
   "metadata": {
    "id": "lATQCtvHK4h4"
   },
   "source": [
    "### Работа с аномальными значениями"
   ]
  },
  {
   "cell_type": "code",
   "execution_count": 18,
   "metadata": {
    "colab": {
     "base_uri": "https://localhost:8080/"
    },
    "id": "kyhLMUsgK4iB",
    "outputId": "ae1381d6-a0ab-44f2-8726-4b78ed694e01"
   },
   "outputs": [
    {
     "data": {
      "text/plain": [
       "(14242, 11)"
      ]
     },
     "execution_count": 18,
     "metadata": {},
     "output_type": "execute_result"
    }
   ],
   "source": [
    "# посмотрим нет ли аномалий типа: год регистрации автомобиля превышает год публикации объявления\n",
    "data.loc[data['registration_year'] > data['date_created'].dt.year].shape"
   ]
  },
  {
   "cell_type": "code",
   "execution_count": 19,
   "metadata": {
    "id": "G9nhDg5QK4iH"
   },
   "outputs": [],
   "source": [
    "# удалим подобные объекты\n",
    "data = data.loc[data['registration_year'] <= data['date_created'].dt.year]"
   ]
  },
  {
   "cell_type": "code",
   "execution_count": 20,
   "metadata": {
    "colab": {
     "base_uri": "https://localhost:8080/",
     "height": 547
    },
    "id": "xNM0r8_YK4iJ",
    "outputId": "aad98899-f846-445b-aa59-63594200feb3"
   },
   "outputs": [
    {
     "data": {
      "image/png": "[encoded data removed]",
      "text/plain": [
       "<Figure size 432x288 with 1 Axes>"
      ]
     },
     "metadata": {
      "needs_background": "light"
     },
     "output_type": "display_data"
    },
    {
     "data": {
      "image/png": "[encoded data removed]",
      "text/plain": [
       "<Figure size 432x288 with 1 Axes>"
      ]
     },
     "metadata": {
      "needs_background": "light"
     },
     "output_type": "display_data"
    },
    {
     "name": "stdout",
     "output_type": "stream",
     "text": [
      "Максимальный год регистрации автомобиля: 2016\n"
     ]
    }
   ],
   "source": [
    "# данные по столбцу \"год регистрации автомобиля\"\n",
    "data.boxplot(column='registration_year')\n",
    "plt.ylim(1970, 2022)             \n",
    "plt.show()\n",
    "data.hist(column='registration_year', range=(1800, 1970)) \n",
    "plt.show()\n",
    "print(f'Максимальный год регистрации автомобиля: {data[\"registration_year\"].max()}')"
   ]
  },
  {
   "cell_type": "code",
   "execution_count": 21,
   "metadata": {
    "id": "BUYOYicyK4iS"
   },
   "outputs": [],
   "source": [
    "data = data.query('1970 <= registration_year').reset_index(drop=True)"
   ]
  },
  {
   "cell_type": "code",
   "execution_count": 22,
   "metadata": {
    "colab": {
     "base_uri": "https://localhost:8080/",
     "height": 530
    },
    "id": "w1KDXvaWK4iT",
    "outputId": "e4b31151-bc5d-4616-ae8f-a546cab53039"
   },
   "outputs": [
    {
     "data": {
      "image/png": "[encoded data removed]",
      "text/plain": [
       "<Figure size 432x288 with 1 Axes>"
      ]
     },
     "metadata": {
      "needs_background": "light"
     },
     "output_type": "display_data"
    },
    {
     "data": {
      "image/png": "[encoded data removed]",
      "text/plain": [
       "<Figure size 432x288 with 1 Axes>"
      ]
     },
     "metadata": {
      "needs_background": "light"
     },
     "output_type": "display_data"
    }
   ],
   "source": [
    "data.boxplot(column='registration_year')      \n",
    "plt.show()\n",
    "data.hist(column='registration_year') \n",
    "plt.show()"
   ]
  },
  {
   "cell_type": "code",
   "execution_count": 23,
   "metadata": {
    "id": "iW04R1aJK4iX"
   },
   "outputs": [],
   "source": [
    "# уберем столбец с датой публикации объявления, он нам больше не нужен\n",
    "data = data.drop('date_created', axis=1)"
   ]
  },
  {
   "cell_type": "markdown",
   "metadata": {
    "id": "5OPaQxGiK4iY"
   },
   "source": [
    "Уберем из столбца с годом регистрации автомобиля все аномалии: **удалим объявления в которых год регистрации автомобиля превышает год публикации объявления**, так как мы не хотим, чтобы в выборку попали автомобили \"из будущего\". Установим следующую **нижнюю границу – 1970 год**, чтобы захватить старые автомобили. **Верхняя граница – 2016 год**, как максимальный год регистрации автомобиля**."
   ]
  },
  {
   "cell_type": "code",
   "execution_count": 24,
   "metadata": {
    "colab": {
     "base_uri": "https://localhost:8080/",
     "height": 533
    },
    "id": "LzDQnCEaK4ih",
    "outputId": "9206cff7-9737-41ec-a9bf-e3ce1ecc9f45"
   },
   "outputs": [
    {
     "data": {
      "image/png": "[encoded data removed]",
      "text/plain": [
       "<Figure size 432x288 with 1 Axes>"
      ]
     },
     "metadata": {
      "needs_background": "light"
     },
     "output_type": "display_data"
    },
    {
     "data": {
      "image/png": "[encoded data removed]",
      "text/plain": [
       "<Figure size 432x288 with 1 Axes>"
      ]
     },
     "metadata": {
      "needs_background": "light"
     },
     "output_type": "display_data"
    }
   ],
   "source": [
    "# данные по столбцу \"мощность (в л.с.)\"\n",
    "data.boxplot(column='power') \n",
    "plt.ylim(0, 400)\n",
    "plt.show()\n",
    "data.hist(column='power', range=(400, data['power'].max())) \n",
    "plt.show()"
   ]
  },
  {
   "cell_type": "code",
   "execution_count": 25,
   "metadata": {
    "id": "Xo4dWxy2K4ij"
   },
   "outputs": [],
   "source": [
    "def normal_power(num):\n",
    "    if num >= 10000:\n",
    "        return num / 100\n",
    "    else:\n",
    "        return num"
   ]
  },
  {
   "cell_type": "code",
   "execution_count": 26,
   "metadata": {
    "id": "l_xJSMYgK4ik"
   },
   "outputs": [],
   "source": [
    "data['power'] = data['power'].apply(normal_power).astype(int)\n",
    "data = data.query('50 <= power <= 400').reset_index(drop=True)"
   ]
  },
  {
   "cell_type": "code",
   "execution_count": 27,
   "metadata": {
    "colab": {
     "base_uri": "https://localhost:8080/",
     "height": 529
    },
    "id": "uER7-JXcK4im",
    "outputId": "7807abf1-60ff-443f-fe6c-d032b3d5b55d"
   },
   "outputs": [
    {
     "data": {
      "image/png": "[encoded data removed]",
      "text/plain": [
       "<Figure size 432x288 with 1 Axes>"
      ]
     },
     "metadata": {
      "needs_background": "light"
     },
     "output_type": "display_data"
    },
    {
     "data": {
      "image/png": "[encoded data removed]",
      "text/plain": [
       "<Figure size 432x288 with 1 Axes>"
      ]
     },
     "metadata": {
      "needs_background": "light"
     },
     "output_type": "display_data"
    }
   ],
   "source": [
    "data.boxplot(column='power') \n",
    "plt.show()\n",
    "data.hist(column='power') \n",
    "plt.show()"
   ]
  },
  {
   "cell_type": "markdown",
   "metadata": {
    "id": "0up9m172K4in"
   },
   "source": [
    "Уберем из столбца с мощностью автомобиля все аномалии. **Значения выше 10 тыс. л.с. точно являются таковыми. Разделим все значения выше этого на 100.** Кроме того согласно диаграмме размаха значения выше 250 л.с. и ниже 70 л.с. уже выходят за пределы \"усов\". **Оставим только объекты со значениями в промежутке от 50 л.с. до 400 л.с., чтобы захватить как маломощные автомобили, так и машины с высокой мощностью**."
   ]
  },
  {
   "cell_type": "code",
   "execution_count": 28,
   "metadata": {
    "colab": {
     "base_uri": "https://localhost:8080/",
     "height": 566
    },
    "id": "LWnftm65K4iq",
    "outputId": "f99c34f8-a60d-4009-9b8c-2b9ef9dc4c8e"
   },
   "outputs": [
    {
     "data": {
      "image/png": "[encoded data removed]",
      "text/plain": [
       "<Figure size 432x288 with 1 Axes>"
      ]
     },
     "metadata": {
      "needs_background": "light"
     },
     "output_type": "display_data"
    },
    {
     "data": {
      "image/png": "[encoded data removed]",
      "text/plain": [
       "<Figure size 432x288 with 1 Axes>"
      ]
     },
     "metadata": {
      "needs_background": "light"
     },
     "output_type": "display_data"
    },
    {
     "name": "stdout",
     "output_type": "stream",
     "text": [
      "Уникальные значения столбца с пробегом: [125000, 150000, 90000, 40000, 30000, 70000, 100000, 60000, 5000, 20000, 80000, 50000, 10000]\n"
     ]
    }
   ],
   "source": [
    "# данные по столбцу \"пробег\"\n",
    "data.boxplot(column='kilometer') \n",
    "plt.show()\n",
    "data.hist(column='kilometer') \n",
    "plt.show()\n",
    "print(f'Уникальные значения столбца с пробегом: {list(data[\"kilometer\"].unique())}')"
   ]
  },
  {
   "cell_type": "markdown",
   "metadata": {
    "id": "oC14XsRBK4ir"
   },
   "source": [
    "На графиках видно, что большое количество автомобилей имеют пробег от 120 до 150 тыс. км., что вполне ожидаемо для рынка авто с пробегом. Однако это не значит, что не может быть машин с очень маленьким пробегом, поэтому **не будем убирать аномалии по данному столбцу**."
   ]
  },
  {
   "cell_type": "code",
   "execution_count": 29,
   "metadata": {
    "colab": {
     "base_uri": "https://localhost:8080/",
     "height": 533
    },
    "id": "PG5eMKz9K4ix",
    "outputId": "200339e5-63e7-48c3-b046-4f0003477ec5"
   },
   "outputs": [
    {
     "data": {
      "image/png": "[encoded data removed]",
      "text/plain": [
       "<Figure size 432x288 with 1 Axes>"
      ]
     },
     "metadata": {
      "needs_background": "light"
     },
     "output_type": "display_data"
    },
    {
     "data": {
      "image/png": "[encoded data removed]",
      "text/plain": [
       "<Figure size 432x288 with 1 Axes>"
      ]
     },
     "metadata": {
      "needs_background": "light"
     },
     "output_type": "display_data"
    }
   ],
   "source": [
    "# данные по столбцу \"цена\"\n",
    "data.boxplot(column='price') \n",
    "plt.ylim(0, 16000)\n",
    "plt.show()\n",
    "data.hist(column='price') \n",
    "plt.show()"
   ]
  },
  {
   "cell_type": "code",
   "execution_count": 30,
   "metadata": {
    "id": "Wnhy1GmZK4iy"
   },
   "outputs": [],
   "source": [
    "data = data.query('0 < price <= 16000')"
   ]
  },
  {
   "cell_type": "code",
   "execution_count": 31,
   "metadata": {
    "colab": {
     "base_uri": "https://localhost:8080/",
     "height": 529
    },
    "id": "Y9L-w-CcK4i1",
    "outputId": "a42adf66-b8f2-4eac-a6c6-e611aef80ef4"
   },
   "outputs": [
    {
     "data": {
      "image/png": "[encoded data removed]",
      "text/plain": [
       "<Figure size 432x288 with 1 Axes>"
      ]
     },
     "metadata": {
      "needs_background": "light"
     },
     "output_type": "display_data"
    },
    {
     "data": {
      "image/png": "[encoded data removed]",
      "text/plain": [
       "<Figure size 432x288 with 1 Axes>"
      ]
     },
     "metadata": {
      "needs_background": "light"
     },
     "output_type": "display_data"
    }
   ],
   "source": [
    "# данные по столбцу \"цена\"\n",
    "data.boxplot(column='price') \n",
    "plt.show()\n",
    "data.hist(column='price') \n",
    "plt.show()"
   ]
  },
  {
   "cell_type": "markdown",
   "metadata": {
    "id": "fcM8GCZzK4i4"
   },
   "source": [
    "**Удалим аномалии из столбца с целевым признаком – \"цена\"**. К аномалиям относятся все значения выше верхней границы \"усов\"."
   ]
  },
  {
   "cell_type": "markdown",
   "metadata": {
    "id": "xPRcjHlQK4i6"
   },
   "source": [
    "### Изучение корреляции признаков"
   ]
  },
  {
   "cell_type": "code",
   "execution_count": 32,
   "metadata": {
    "colab": {
     "base_uri": "https://localhost:8080/",
     "height": 270
    },
    "id": "ZOBO9q7iK4i7",
    "outputId": "0fa39916-8d53-448c-8f0c-c9ffdbdf4ca0"
   },
   "outputs": [
    {
     "data": {
      "image/png": "[encoded data removed]",
      "text/plain": [
       "<Figure size 432x288 with 2 Axes>"
      ]
     },
     "metadata": {
      "needs_background": "light"
     },
     "output_type": "display_data"
    }
   ],
   "source": [
    "sns.heatmap(data.drop('price', axis=1).corr())\n",
    "plt.show()"
   ]
  },
  {
   "cell_type": "markdown",
   "metadata": {
    "id": "zlgYGXLaK4i8"
   },
   "source": [
    "**Значение коффициента корреляции между численными признаками не привышает 0.2 – 0.3**. Такая корреляция считается слабой, следовательно **мультиколлинеарности нет**."
   ]
  },
  {
   "cell_type": "markdown",
   "metadata": {
    "id": "8q6uS1gXK4i-"
   },
   "source": [
    "### Подготовка выборок для обучения моделей"
   ]
  },
  {
   "cell_type": "code",
   "execution_count": 33,
   "metadata": {
    "colab": {
     "base_uri": "https://localhost:8080/"
    },
    "id": "ySO-A8zjK4i_",
    "outputId": "11e270ee-df05-4e4e-fad0-c2c3897e514c"
   },
   "outputs": [
    {
     "name": "stdout",
     "output_type": "stream",
     "text": [
      "<class 'pandas.core.frame.DataFrame'>\n",
      "Int64Index: 267273 entries, 1 to 283245\n",
      "Data columns (total 10 columns):\n",
      " #   Column             Non-Null Count   Dtype \n",
      "---  ------             --------------   ----- \n",
      " 0   price              267273 non-null  int64 \n",
      " 1   vehicle_type       267273 non-null  object\n",
      " 2   registration_year  267273 non-null  int64 \n",
      " 3   gearbox            267273 non-null  object\n",
      " 4   power              267273 non-null  int64 \n",
      " 5   model              267273 non-null  object\n",
      " 6   kilometer          267273 non-null  int64 \n",
      " 7   fuel_type          267273 non-null  object\n",
      " 8   brand              267273 non-null  object\n",
      " 9   repaired           267273 non-null  int64 \n",
      "dtypes: int64(5), object(5)\n",
      "memory usage: 22.4+ MB\n"
     ]
    }
   ],
   "source": [
    "# описание данных после предобработки\n",
    "data.info()"
   ]
  },
  {
   "cell_type": "code",
   "execution_count": 34,
   "metadata": {
    "id": "e96wIOX9K4jA"
   },
   "outputs": [],
   "source": [
    "# разделим данные на выборки\n",
    "features_train, features_test, target_train, target_test = train_test_split(data.drop('price', axis=1),\n",
    "                                                                            data['price'],\n",
    "                                                                            test_size=0.25, \n",
    "                                                                            random_state=42)"
   ]
  },
  {
   "cell_type": "code",
   "execution_count": 35,
   "metadata": {
    "colab": {
     "base_uri": "https://localhost:8080/",
     "height": 85
    },
    "id": "3LrljckcK4jA",
    "outputId": "33c4050a-5c4d-4de8-8b51-68fe63a028c0"
   },
   "outputs": [
    {
     "data": {
      "text/plain": [
       "(200454, 9)"
      ]
     },
     "metadata": {},
     "output_type": "display_data"
    },
    {
     "data": {
      "text/plain": [
       "(200454,)"
      ]
     },
     "metadata": {},
     "output_type": "display_data"
    },
    {
     "data": {
      "text/plain": [
       "(66819, 9)"
      ]
     },
     "metadata": {},
     "output_type": "display_data"
    },
    {
     "data": {
      "text/plain": [
       "(66819,)"
      ]
     },
     "metadata": {},
     "output_type": "display_data"
    }
   ],
   "source": [
    "# проверим размеры выборок\n",
    "display(features_train.shape, target_train.shape)\n",
    "display(features_test.shape, target_test.shape)"
   ]
  },
  {
   "cell_type": "markdown",
   "metadata": {
    "id": "lRkBnpUgK4jB"
   },
   "source": [
    "## Обучение моделей"
   ]
  },
  {
   "cell_type": "code",
   "execution_count": 36,
   "metadata": {
    "colab": {
     "base_uri": "https://localhost:8080/"
    },
    "id": "0oJ-p8oQK4jC",
    "outputId": "51d0036a-a67e-4076-ffe5-698d3776c594"
   },
   "outputs": [
    {
     "data": {
      "text/plain": [
       "['vehicle_type', 'gearbox', 'model', 'fuel_type', 'brand']"
      ]
     },
     "execution_count": 36,
     "metadata": {},
     "output_type": "execute_result"
    }
   ],
   "source": [
    "# категориальные признаки\n",
    "CATEGORICAL = features_train.select_dtypes(include='object').columns.to_list()\n",
    "CATEGORICAL"
   ]
  },
  {
   "cell_type": "code",
   "execution_count": 37,
   "metadata": {
    "colab": {
     "base_uri": "https://localhost:8080/"
    },
    "id": "UVlBju9IK4jD",
    "outputId": "daf49ba9-3ebd-48a7-de5a-527d371f676b"
   },
   "outputs": [
    {
     "data": {
      "text/plain": [
       "['registration_year', 'power', 'kilometer']"
      ]
     },
     "execution_count": 37,
     "metadata": {},
     "output_type": "execute_result"
    }
   ],
   "source": [
    "# численные признаки\n",
    "NUMERIC = features_train.select_dtypes(exclude='object').columns.to_list()\n",
    "NUMERIC.remove('repaired')\n",
    "NUMERIC"
   ]
  },
  {
   "cell_type": "code",
   "execution_count": 38,
   "metadata": {
    "id": "hZ9IOO-fK4jD"
   },
   "outputs": [],
   "source": [
    "# заготовка для сводной таблицы по всем моделям\n",
    "rmse_score_diff_methods = pd.DataFrame()"
   ]
  },
  {
   "cell_type": "markdown",
   "metadata": {
    "id": "2Xme5Pm3K4jF"
   },
   "source": [
    "### Базовые модели"
   ]
  },
  {
   "cell_type": "markdown",
   "metadata": {
    "id": "fxXTe8xwK4jG"
   },
   "source": [
    "#### Гребневая регрессия (Ridge)"
   ]
  },
  {
   "cell_type": "markdown",
   "metadata": {
    "id": "kS-f1CY-K4jH"
   },
   "source": [
    "Используем **OHE кодирование категориальных признаков** и **StandardScaler для численных признаков**. "
   ]
  },
  {
   "cell_type": "code",
   "execution_count": 39,
   "metadata": {
    "id": "cqsTiAGxK4jI"
   },
   "outputs": [],
   "source": [
    "# кодировка категориальных признаков и маштабирование численных\n",
    "features_train_ridge = features_train.copy()\n",
    "\n",
    "col_transformer_ridge = make_column_transformer(\n",
    "    (\n",
    "        OneHotEncoder(drop='first', handle_unknown='ignore'),\n",
    "        CATEGORICAL\n",
    "    ),\n",
    "    (\n",
    "        StandardScaler(), \n",
    "        NUMERIC\n",
    "    ),\n",
    "    remainder='passthrough')\n",
    "    #verbose_feature_names_out=False)"
   ]
  },
  {
   "cell_type": "code",
   "execution_count": 40,
   "metadata": {
    "colab": {
     "base_uri": "https://localhost:8080/"
    },
    "id": "A8xg1yBmK4jJ",
    "outputId": "8f3f3238-2b30-4666-e38b-d081c7c15dcf",
    "scrolled": true
   },
   "outputs": [
    {
     "name": "stdout",
     "output_type": "stream",
     "text": [
      "Fitting 5 folds for each of 25 candidates, totalling 125 fits\n",
      "CPU times: user 2min 41s, sys: 4min, total: 6min 41s\n",
      "Wall time: 6min 43s\n"
     ]
    }
   ],
   "source": [
    "%%time\n",
    "\n",
    "model_ridge = Ridge(random_state=42)\n",
    "\n",
    "pipeline_ridge = make_pipeline(col_transformer_ridge, model_ridge)\n",
    "\n",
    "params_grid_ridge = {'ridge__alpha': np.arange(0.00, 0.25, 0.01)}\n",
    "\n",
    "grid_ridge = GridSearchCV(\n",
    "    pipeline_ridge, \n",
    "    param_grid=params_grid_ridge, \n",
    "    scoring='neg_root_mean_squared_error', \n",
    "    n_jobs=-1,\n",
    "    verbose=1)\n",
    "\n",
    "grid_ridge.fit(features_train_ridge, target_train)\n",
    "\n",
    "best_model_ridge = grid_ridge.best_estimator_\n",
    "best_parametrs_ridge = grid_ridge.best_params_\n",
    "best_result_ridge = grid_ridge.best_score_ * -1"
   ]
  },
  {
   "cell_type": "code",
   "execution_count": 41,
   "metadata": {
    "colab": {
     "base_uri": "https://localhost:8080/"
    },
    "id": "avtRWeNZK4jM",
    "outputId": "3cc68473-2337-4647-df09-dae8ee88847d",
    "scrolled": true
   },
   "outputs": [
    {
     "name": "stdout",
     "output_type": "stream",
     "text": [
      "Лучший результат RMSE модели: 2189.5884559568212\n",
      "Лучшие параметры модели: {'ridge__alpha': 0.1}\n"
     ]
    }
   ],
   "source": [
    "print(f'Лучший результат RMSE модели: {best_result_ridge}') # лучший результат RMSE модели\n",
    "print(f'Лучшие параметры модели: {best_parametrs_ridge}') # лучшие параметры модели"
   ]
  },
  {
   "cell_type": "code",
   "execution_count": 42,
   "metadata": {
    "colab": {
     "base_uri": "https://localhost:8080/"
    },
    "id": "jhMstvWUK4jN",
    "outputId": "351b7839-e5db-4a05-e901-734dfe6d18e3"
   },
   "outputs": [
    {
     "name": "stdout",
     "output_type": "stream",
     "text": [
      "CPU times: user 272 ms, sys: 50.6 ms, total: 322 ms\n",
      "Wall time: 325 ms\n"
     ]
    }
   ],
   "source": [
    "%%time\n",
    "\n",
    "# замеряем время предсказания\n",
    "predicted_test = best_model_ridge.predict(features_train)"
   ]
  },
  {
   "cell_type": "code",
   "execution_count": 43,
   "metadata": {
    "id": "bdUmN7ziK4jO"
   },
   "outputs": [],
   "source": [
    "rmse_score_diff_methods.loc['Ridge', 'RMSE'] = best_result_ridge\n",
    "rmse_score_diff_methods.loc['Ridge', 'time_fit'] = '1 min 30 s'\n",
    "rmse_score_diff_methods.loc['Ridge', 'time_predict'] = '439 ms'"
   ]
  },
  {
   "cell_type": "markdown",
   "metadata": {
    "id": "_aE78xLBK4jQ"
   },
   "source": [
    "#### Дерево решений"
   ]
  },
  {
   "cell_type": "markdown",
   "metadata": {
    "id": "GZZDjd32K4jR"
   },
   "source": [
    "Используем **порядковое кодирование признака *model***, так как в нем отражено большое количество уникальных значений (модель автомобиля), и **OHE кодирование остальных категориальных признаков**."
   ]
  },
  {
   "cell_type": "code",
   "execution_count": 44,
   "metadata": {
    "id": "ICcTKHE6K4jR"
   },
   "outputs": [],
   "source": [
    "# кодировка категориальных признаков и маштабирование численных\n",
    "features_train_tree = features_train.copy()\n",
    "\n",
    "col_transformer_tree = make_column_transformer(\n",
    "    (\n",
    "        OrdinalEncoder(handle_unknown='use_encoded_value', unknown_value=-1), \n",
    "        CATEGORICAL\n",
    "    ),\n",
    "    (\n",
    "        StandardScaler(),\n",
    "        NUMERIC\n",
    "    ),\n",
    "    remainder='passthrough')"
   ]
  },
  {
   "cell_type": "code",
   "execution_count": 45,
   "metadata": {
    "colab": {
     "base_uri": "https://localhost:8080/"
    },
    "id": "onO5bdQaK4jT",
    "outputId": "8cf0880b-3552-4865-dc72-6bb4f533ccdf",
    "scrolled": true
   },
   "outputs": [
    {
     "name": "stdout",
     "output_type": "stream",
     "text": [
      "Fitting 5 folds for each of 13 candidates, totalling 65 fits\n",
      "CPU times: user 30.7 s, sys: 2.68 s, total: 33.4 s\n",
      "Wall time: 33.5 s\n"
     ]
    }
   ],
   "source": [
    "%%time\n",
    "\n",
    "model_tree = DecisionTreeRegressor(random_state=42)\n",
    "\n",
    "pipline_tree = make_pipeline(col_transformer_tree, model_tree)\n",
    "\n",
    "params_grid_tree = {'decisiontreeregressor__max_depth': range(2, 15)}\n",
    "\n",
    "grid_tree = GridSearchCV(\n",
    "    pipline_tree, \n",
    "    param_grid=params_grid_tree,\n",
    "    scoring='neg_root_mean_squared_error',\n",
    "    verbose=1)\n",
    "\n",
    "grid_tree.fit(features_train_tree, target_train)\n",
    "\n",
    "best_model_tree = grid_tree.best_estimator_\n",
    "best_parametrs_tree = grid_tree.best_params_\n",
    "best_result_tree = grid_tree.best_score_ * -1"
   ]
  },
  {
   "cell_type": "code",
   "execution_count": 46,
   "metadata": {
    "colab": {
     "base_uri": "https://localhost:8080/"
    },
    "id": "3VVWXlybK4jU",
    "outputId": "3195460b-bd8a-48a0-c7bd-a63ae022f879",
    "scrolled": true
   },
   "outputs": [
    {
     "name": "stdout",
     "output_type": "stream",
     "text": [
      "Лучший результат RMSE модели: 1664.96603629967\n",
      "Лучшие параметры модели: {'decisiontreeregressor__max_depth': 14}\n"
     ]
    }
   ],
   "source": [
    "print(f'Лучший результат RMSE модели: {best_result_tree}') # лучший результат RMSE модели\n",
    "print(f'Лучшие параметры модели: {best_parametrs_tree}') # лучшие параметры модели"
   ]
  },
  {
   "cell_type": "code",
   "execution_count": 47,
   "metadata": {
    "colab": {
     "base_uri": "https://localhost:8080/"
    },
    "id": "gFR6ojKTPC-j",
    "outputId": "5059d352-5242-43ab-e497-ca14657eb001"
   },
   "outputs": [
    {
     "name": "stdout",
     "output_type": "stream",
     "text": [
      "CPU times: user 242 ms, sys: 6.65 ms, total: 248 ms\n",
      "Wall time: 251 ms\n"
     ]
    }
   ],
   "source": [
    "%%time\n",
    "\n",
    "# замеряем время предсказания\n",
    "predicted_test = best_model_tree.predict(features_train)"
   ]
  },
  {
   "cell_type": "code",
   "execution_count": 48,
   "metadata": {
    "id": "g_Qi0c2nK4jX"
   },
   "outputs": [],
   "source": [
    "rmse_score_diff_methods.loc['DecisionTree', 'RMSE'] = best_result_tree\n",
    "rmse_score_diff_methods.loc['DecisionTree', 'time_fit'] = '43.4 s'\n",
    "rmse_score_diff_methods.loc['DecisionTree', 'time_predict'] = '311 ms'"
   ]
  },
  {
   "cell_type": "markdown",
   "metadata": {
    "id": "eK7tt7IyK4jY"
   },
   "source": [
    "### Градиентный бустинг"
   ]
  },
  {
   "cell_type": "markdown",
   "metadata": {
    "id": "WoEQEm2qK4jZ"
   },
   "source": [
    "#### LightGBM"
   ]
  },
  {
   "cell_type": "code",
   "execution_count": 49,
   "metadata": {
    "id": "pvDadRzlK4jc"
   },
   "outputs": [],
   "source": [
    "# кодируем категориальные признаки\n",
    "ord_enc = OrdinalEncoder(handle_unknown='use_encoded_value', unknown_value=-1)\n",
    "features_train_lgb = features_train.copy()\n",
    "features_train_lgb[CATEGORICAL] = ord_enc.fit_transform(features_train_lgb[CATEGORICAL]).astype(int)"
   ]
  },
  {
   "cell_type": "code",
   "execution_count": null,
   "metadata": {
    "colab": {
     "base_uri": "https://localhost:8080/"
    },
    "id": "M-WukijyK4jf",
    "outputId": "e4a5e33c-223f-4eec-92a1-a3f5ff1000f4",
    "scrolled": true
   },
   "outputs": [
    {
     "name": "stdout",
     "output_type": "stream",
     "text": [
      "Fitting 5 folds for each of 10 candidates, totalling 50 fits\n"
     ]
    }
   ],
   "source": [
    "%%time\n",
    "\n",
    "params = {'learning_rate': [0.5, 0.1],\n",
    "          'max_depth': range(1, 8),\n",
    "          'n_estimators': range(50, 351, 50)}\n",
    "\n",
    "fit_params = {'categorical_feature': CATEGORICAL}\n",
    "\n",
    "model = lgb.LGBMRegressor(random_state=42)\n",
    "grid = RandomizedSearchCV(model, \n",
    "                          param_distributions=params, \n",
    "                          scoring='neg_root_mean_squared_error', \n",
    "                          cv=5,\n",
    "                          n_jobs=-1, \n",
    "                          random_state=42,\n",
    "                          verbose=1)\n",
    "grid.fit(features_train_lgb, target_train, **fit_params)\n",
    "\n",
    "best_model_lgb = grid.best_estimator_\n",
    "best_parametrs_lgb = grid.best_params_\n",
    "best_result_lgb = grid.best_score_ * -1"
   ]
  },
  {
   "cell_type": "code",
   "execution_count": null,
   "metadata": {
    "colab": {
     "base_uri": "https://localhost:8080/"
    },
    "id": "nxBraIavK4jj",
    "outputId": "340a8af8-eb70-4502-f3ce-b3fe7dba2b5c",
    "scrolled": true
   },
   "outputs": [],
   "source": [
    "print(f'Лучший результат RMSE модели: {best_result_lgb}') # лучший результат RMSE модели\n",
    "print(f'Лучшие параметры модели: {best_parametrs_lgb}') # лучшие параметры модели"
   ]
  },
  {
   "cell_type": "code",
   "execution_count": null,
   "metadata": {
    "colab": {
     "base_uri": "https://localhost:8080/"
    },
    "id": "V2_h16PxS61j",
    "outputId": "1c87781d-a317-4d1a-f6ed-7342153c192e"
   },
   "outputs": [],
   "source": [
    "%%time\n",
    "\n",
    "# замеряем время предсказания\n",
    "predicted_test = best_model_lgb.predict(features_train_lgb)"
   ]
  },
  {
   "cell_type": "code",
   "execution_count": null,
   "metadata": {
    "id": "cmDlWPp6K4jk"
   },
   "outputs": [],
   "source": [
    "rmse_score_diff_methods.loc['LightGBM', 'RMSE'] = best_result_lgb\n",
    "rmse_score_diff_methods.loc['LightGBM', 'time_fit'] = '1 m 48 s'\n",
    "rmse_score_diff_methods.loc['LightGBM', 'time_predict'] = '3.79 s'"
   ]
  },
  {
   "cell_type": "markdown",
   "metadata": {
    "id": "uGkAG59aK4jk"
   },
   "source": [
    "#### CatBoost"
   ]
  },
  {
   "cell_type": "code",
   "execution_count": null,
   "metadata": {
    "colab": {
     "base_uri": "https://localhost:8080/"
    },
    "id": "_BkVOTmKK4jl",
    "outputId": "d7e64221-c7a5-4241-e27d-5d2ceeaafe35"
   },
   "outputs": [],
   "source": [
    "%%time\n",
    "\n",
    "params = {'learning_rate': [0.5, 0.1],\n",
    "          'max_depth': range(1, 8),\n",
    "          'n_estimators': range(50, 351, 50)}\n",
    "\n",
    "fit_params = {'cat_features': CATEGORICAL}\n",
    "\n",
    "model = CatBoostRegressor(random_state=42)\n",
    "grid = RandomizedSearchCV(model, \n",
    "                          param_distributions=params, \n",
    "                          scoring='neg_root_mean_squared_error', \n",
    "                          cv=5,\n",
    "                          n_jobs=-1, \n",
    "                          random_state=42,\n",
    "                          verbose=1)\n",
    "grid.fit(features_train, target_train, **fit_params)\n",
    "\n",
    "best_model_cat = grid.best_estimator_\n",
    "best_parametrs_cat = grid.best_params_\n",
    "best_result_cat = grid.best_score_ * -1"
   ]
  },
  {
   "cell_type": "code",
   "execution_count": null,
   "metadata": {
    "colab": {
     "base_uri": "https://localhost:8080/"
    },
    "id": "knWQBHl6K4jn",
    "outputId": "09d8cecb-9600-423a-9fce-d5db86f742b8",
    "scrolled": true
   },
   "outputs": [],
   "source": [
    "print(f'Лучший результат RMSE модели: {best_result_cat}') # лучший результат RMSE модели\n",
    "print(f'Лучшие параметры модели: {best_parametrs_cat}') # лучшие параметры модели"
   ]
  },
  {
   "cell_type": "code",
   "execution_count": null,
   "metadata": {
    "colab": {
     "base_uri": "https://localhost:8080/"
    },
    "id": "DNG5t7W1YDiN",
    "outputId": "9263eb9d-7abe-45f2-ac5e-3bbdbc7e5609"
   },
   "outputs": [],
   "source": [
    "%%time\n",
    "\n",
    "# замеряем время предсказания\n",
    "predicted_test = best_model_cat.predict(features_train)"
   ]
  },
  {
   "cell_type": "code",
   "execution_count": null,
   "metadata": {
    "id": "qpmj1lrmK4jp"
   },
   "outputs": [],
   "source": [
    "rmse_score_diff_methods.loc['CatBoost', 'RMSE'] = best_result_cat\n",
    "rmse_score_diff_methods.loc['CatBoost', 'time_fit'] = '17 m 37 s'\n",
    "rmse_score_diff_methods.loc['CatBoost', 'time_predict'] = '676 ms'"
   ]
  },
  {
   "cell_type": "markdown",
   "metadata": {
    "id": "ls1TKzZuK4jp"
   },
   "source": [
    "### Сравнение моделей"
   ]
  },
  {
   "cell_type": "code",
   "execution_count": null,
   "metadata": {
    "colab": {
     "base_uri": "https://localhost:8080/",
     "height": 173
    },
    "id": "T3H8nQ1KK4jq",
    "outputId": "f545ecdc-f163-44cb-ce0f-a4d13b3af426",
    "scrolled": true
   },
   "outputs": [],
   "source": [
    "rmse_score_diff_methods"
   ]
  },
  {
   "cell_type": "markdown",
   "metadata": {
    "id": "7sjo-9QFK4ju"
   },
   "source": [
    "Из таблицы видно, что **лучше всего с задачей справилась модель градиентного бустинга LightGBM**. По результатам кросс-валидации ее RMSE равно 1411. Данное значение соответствует условию, согласно которому значение данной метрики не должно превышать 2500.\n",
    "\n",
    "Данная модель дала не лучшие результаты по скорости обучения и предсказания. **Она показала лишь третье время при обучении – 1 мин. 48 с. Предсказания она дает медленнее других трех моделей – 3.79 с.** \n",
    "\n",
    "Однако, ее значительный выигрыш в значении результирующей метрики дает повод выбрать именно эту модель как лучшую."
   ]
  },
  {
   "cell_type": "markdown",
   "metadata": {
    "id": "sJGzZkTRK4jv"
   },
   "source": [
    "## Анализ модели"
   ]
  },
  {
   "cell_type": "code",
   "execution_count": null,
   "metadata": {
    "id": "esLn6pbkK4jw"
   },
   "outputs": [],
   "source": [
    "# кодируем категориальные признаки\n",
    "features_test_lgb = features_test.copy()\n",
    "features_test_lgb[CATEGORICAL] = ord_enc.transform(features_test_lgb[CATEGORICAL]).astype(int)"
   ]
  },
  {
   "cell_type": "code",
   "execution_count": null,
   "metadata": {
    "colab": {
     "base_uri": "https://localhost:8080/"
    },
    "id": "m4DWS5b2K4jz",
    "outputId": "cdf04404-6a55-49f7-dc61-5175d03778a0"
   },
   "outputs": [],
   "source": [
    "%%time\n",
    "\n",
    "model = lgb.LGBMRegressor(n_estimators=350, max_depth=5, learning_rate=0.1, random_state=42)\n",
    "model.fit(features_train_lgb, target_train, categorical_feature=CATEGORICAL)"
   ]
  },
  {
   "cell_type": "code",
   "execution_count": null,
   "metadata": {
    "colab": {
     "base_uri": "https://localhost:8080/"
    },
    "id": "ahjGGEyiK4j0",
    "outputId": "4bf2a7a9-9cc1-4921-e262-6433e84294b4"
   },
   "outputs": [],
   "source": [
    "%%time\n",
    "\n",
    "predicted_test = model.predict(features_test_lgb)\n",
    "\n",
    "print(f'RMSE на тестовой выборке: {round(math.sqrt(mean_squared_error(target_test, predicted_test)), 2)}')"
   ]
  },
  {
   "cell_type": "markdown",
   "metadata": {
    "id": "fo-5n3qgK4j2"
   },
   "source": [
    "На тестовой выборке выбранная модель показала хороший результат – **RMSE равно 1391**."
   ]
  },
  {
   "cell_type": "markdown",
   "metadata": {
    "id": "qQjMsihwK4j3"
   },
   "source": [
    "## Общий вывод по проекту"
   ]
  },
  {
   "cell_type": "markdown",
   "metadata": {
    "id": "gVkcFbtjK4j4"
   },
   "source": [
    "**В проекте велась работа с данными о технических характеристиках, комплектации и ценах различных автомобилей.** Каждый объект в наборе данных — это информация об одном авто.\n",
    "\n",
    "**Признаки:**\n",
    "- DateCrawled — дата скачивания анкеты из базы\n",
    "- VehicleType — тип автомобильного кузова\n",
    "- RegistrationYear — год регистрации автомобиля\n",
    "- Gearbox — тип коробки передач\n",
    "- Power — мощность (л. с.)\n",
    "- Model — модель автомобиля\n",
    "- Kilometer — пробег (км)\n",
    "- RegistrationMonth — месяц регистрации автомобиля\n",
    "- FuelType — тип топлива\n",
    "- Brand — марка автомобиля\n",
    "- Repaired — была машина в ремонте или нет\n",
    "- DateCreated — дата создания анкеты\n",
    "- NumberOfPictures — количество фотографий автомобиля\n",
    "- PostalCode — почтовый индекс владельца анкеты (пользователя)\n",
    "- LastSeen — дата последней активности пользователя\n",
    "\n",
    "**Целевой признак:** Price — цена (евро)\n",
    "\n",
    "**Задача состояла в построение модели, которая умеет определять рыночную стоимость автомобиля.**\n",
    "\n",
    "**Перед началом анализа данные были подготовлены:**\n",
    "- заполнены пропущенные значения; \n",
    "- обработаны аномалии в столбцах;\n",
    "- удалены неинформативные признаки;\n",
    "- подготовлены выборки для обучения моделей.\n",
    "\n",
    "**Мы попробовали обучить 2 базовые модели: гребневую регрессию (ridge) и дерево решений, а так же использовали 2 библиотеки градиентного бустинга: LightGBM и CatBoost.** Каждая модель обучалась с применением кросс-валидации и перебором нескольких гиперпарамметров.\n",
    "\n",
    "**По результатам экспериментов на лучший результат показала градиентного бустинга LightGBM со следующими гиперпараметрами: n_estimators – 350, max_depth – 5, learning_rate – 0.1. По результатам кросс-валидации ее RMSE равно 1411.** Данное значение соответствует условию, согласно которому значение данной метрики не должно превышать 2500.\n",
    "\n",
    "Данная модель дала не лучшие результаты по скорости обучения и предсказания. **Она показала лишь третье время при обучении – 1 мин. 48 с. Предсказания она дает медленнее других трех моделей – 3.79 с.** Однако, ее значительный выигрыш в значении результирующей метрики дает повод выбрать именно эту модель как лучшую.\n",
    "\n",
    "Затем модель с данными параметрами была проверена на тестовой выборке. Она показала хороший результат – **RMSE равно 1391. Время предсказания данной модели составляет всего 1.27 секунды.**"
   ]
  },
  {
   "cell_type": "markdown",
   "metadata": {
    "id": "vaozO5wpK4j9"
   },
   "source": [
    "## Чек-лист проверки"
   ]
  },
  {
   "cell_type": "markdown",
   "metadata": {
    "id": "hPlBsHs8K4kA"
   },
   "source": [
    "Поставьте 'x' в выполненных пунктах. Далее нажмите Shift+Enter."
   ]
  },
  {
   "cell_type": "markdown",
   "metadata": {
    "id": "xiBJuHCSK4kA"
   },
   "source": [
    "- [x]  Jupyter Notebook открыт\n",
    "- [x]  Весь код выполняется без ошибок\n",
    "- [x]  Ячейки с кодом расположены в порядке исполнения\n",
    "- [x]  Выполнена загрузка и подготовка данных\n",
    "- [x]  Выполнено обучение моделей\n",
    "- [x]  Есть анализ скорости работы и качества моделей"
   ]
  }
 ],
 "metadata": {
  "ExecuteTimeLog": [
   {
    "duration": 1239,
    "start_time": "2023-01-14T14:34:30.189Z"
   },
   {
    "duration": 1109,
    "start_time": "2023-01-14T14:34:31.430Z"
   },
   {
    "duration": 183,
    "start_time": "2023-01-14T14:34:32.541Z"
   },
   {
    "duration": 27,
    "start_time": "2023-01-14T14:34:32.726Z"
   },
   {
    "duration": 143,
    "start_time": "2023-01-14T14:34:32.756Z"
   },
   {
    "duration": 3,
    "start_time": "2023-01-14T14:34:32.901Z"
   },
   {
    "duration": 95,
    "start_time": "2023-01-14T14:34:32.906Z"
   },
   {
    "duration": 101,
    "start_time": "2023-01-14T14:34:33.003Z"
   },
   {
    "duration": 5,
    "start_time": "2023-01-14T14:34:33.106Z"
   },
   {
    "duration": 332,
    "start_time": "2023-01-14T14:34:33.113Z"
   },
   {
    "duration": 12,
    "start_time": "2023-01-14T14:34:33.447Z"
   },
   {
    "duration": 97,
    "start_time": "2023-01-14T14:34:33.460Z"
   },
   {
    "duration": 195,
    "start_time": "2023-01-14T14:34:33.559Z"
   },
   {
    "duration": 90,
    "start_time": "2023-01-14T14:34:33.759Z"
   },
   {
    "duration": 186,
    "start_time": "2023-01-14T14:34:33.850Z"
   },
   {
    "duration": 382,
    "start_time": "2023-01-14T14:34:34.038Z"
   },
   {
    "duration": 41,
    "start_time": "2023-01-14T14:34:34.422Z"
   },
   {
    "duration": 55,
    "start_time": "2023-01-14T14:34:34.465Z"
   },
   {
    "duration": 551,
    "start_time": "2023-01-14T14:34:34.522Z"
   },
   {
    "duration": 62,
    "start_time": "2023-01-14T14:34:35.075Z"
   },
   {
    "duration": 560,
    "start_time": "2023-01-14T14:34:35.139Z"
   },
   {
    "duration": 16,
    "start_time": "2023-01-14T14:34:35.701Z"
   },
   {
    "duration": 474,
    "start_time": "2023-01-14T14:34:35.719Z"
   },
   {
    "duration": 3,
    "start_time": "2023-01-14T14:34:36.195Z"
   },
   {
    "duration": 155,
    "start_time": "2023-01-14T14:34:36.200Z"
   },
   {
    "duration": 485,
    "start_time": "2023-01-14T14:34:36.356Z"
   },
   {
    "duration": 544,
    "start_time": "2023-01-14T14:34:36.843Z"
   },
   {
    "duration": 516,
    "start_time": "2023-01-14T14:34:37.388Z"
   },
   {
    "duration": 30,
    "start_time": "2023-01-14T14:34:37.906Z"
   },
   {
    "duration": 518,
    "start_time": "2023-01-14T14:34:37.937Z"
   },
   {
    "duration": 348,
    "start_time": "2023-01-14T14:34:38.456Z"
   },
   {
    "duration": 71,
    "start_time": "2023-01-14T14:34:38.806Z"
   },
   {
    "duration": 76,
    "start_time": "2023-01-14T14:34:38.880Z"
   },
   {
    "duration": 8,
    "start_time": "2023-01-14T14:34:38.958Z"
   },
   {
    "duration": 23,
    "start_time": "2023-01-14T14:34:38.968Z"
   },
   {
    "duration": 10,
    "start_time": "2023-01-14T14:34:38.992Z"
   },
   {
    "duration": 13,
    "start_time": "2023-01-14T14:34:39.003Z"
   },
   {
    "duration": 19,
    "start_time": "2023-01-14T14:34:39.018Z"
   },
   {
    "duration": 526206,
    "start_time": "2023-01-14T14:34:39.039Z"
   },
   {
    "duration": 4,
    "start_time": "2023-01-14T14:43:25.336Z"
   },
   {
    "duration": 226,
    "start_time": "2023-01-14T14:43:25.344Z"
   },
   {
    "duration": 7,
    "start_time": "2023-01-14T14:43:25.572Z"
   },
   {
    "duration": 25,
    "start_time": "2023-01-14T14:43:25.580Z"
   },
   {
    "duration": 34166,
    "start_time": "2023-01-14T14:43:25.607Z"
   },
   {
    "duration": 4,
    "start_time": "2023-01-14T14:43:59.775Z"
   },
   {
    "duration": 115,
    "start_time": "2023-01-14T14:43:59.780Z"
   },
   {
    "duration": 5,
    "start_time": "2023-01-14T14:43:59.896Z"
   },
   {
    "duration": 470,
    "start_time": "2023-01-14T14:43:59.903Z"
   },
   {
    "duration": 453073,
    "start_time": "2023-01-14T14:44:00.375Z"
   },
   {
    "duration": 4,
    "start_time": "2023-01-14T14:51:33.450Z"
   },
   {
    "duration": 226,
    "start_time": "2023-01-14T14:51:33.456Z"
   },
   {
    "duration": 2452,
    "start_time": "2023-01-14T14:51:33.684Z"
   },
   {
    "duration": 5,
    "start_time": "2023-01-14T14:51:36.138Z"
   },
   {
    "duration": 1067492,
    "start_time": "2023-01-14T14:51:36.145Z"
   },
   {
    "duration": 3,
    "start_time": "2023-01-14T15:09:23.639Z"
   },
   {
    "duration": 275,
    "start_time": "2023-01-14T15:09:23.643Z"
   },
   {
    "duration": 5,
    "start_time": "2023-01-14T15:09:23.920Z"
   },
   {
    "duration": 21,
    "start_time": "2023-01-14T15:09:23.926Z"
   },
   {
    "duration": 162,
    "start_time": "2023-01-14T15:09:23.949Z"
   },
   {
    "duration": 11140,
    "start_time": "2023-01-14T15:09:24.113Z"
   },
   {
    "duration": 2399,
    "start_time": "2023-01-14T15:09:35.254Z"
   },
   {
    "duration": 1550,
    "start_time": "2023-01-15T10:17:23.652Z"
   },
   {
    "duration": 2762,
    "start_time": "2023-01-15T10:17:25.204Z"
   },
   {
    "duration": 104,
    "start_time": "2023-01-15T10:17:27.968Z"
   },
   {
    "duration": 18,
    "start_time": "2023-01-15T10:17:28.074Z"
   },
   {
    "duration": 136,
    "start_time": "2023-01-15T10:17:28.093Z"
   },
   {
    "duration": 3,
    "start_time": "2023-01-15T10:17:28.231Z"
   },
   {
    "duration": 77,
    "start_time": "2023-01-15T10:17:28.236Z"
   },
   {
    "duration": 77,
    "start_time": "2023-01-15T10:17:28.322Z"
   },
   {
    "duration": 4,
    "start_time": "2023-01-15T10:17:28.401Z"
   },
   {
    "duration": 295,
    "start_time": "2023-01-15T10:17:28.423Z"
   },
   {
    "duration": 12,
    "start_time": "2023-01-15T10:17:28.720Z"
   },
   {
    "duration": 83,
    "start_time": "2023-01-15T10:17:28.734Z"
   },
   {
    "duration": 159,
    "start_time": "2023-01-15T10:17:28.823Z"
   },
   {
    "duration": 65,
    "start_time": "2023-01-15T10:17:28.984Z"
   },
   {
    "duration": 164,
    "start_time": "2023-01-15T10:17:29.051Z"
   },
   {
    "duration": 350,
    "start_time": "2023-01-15T10:17:29.217Z"
   },
   {
    "duration": 35,
    "start_time": "2023-01-15T10:17:29.568Z"
   },
   {
    "duration": 59,
    "start_time": "2023-01-15T10:17:29.605Z"
   },
   {
    "duration": 525,
    "start_time": "2023-01-15T10:17:29.666Z"
   },
   {
    "duration": 54,
    "start_time": "2023-01-15T10:17:30.193Z"
   },
   {
    "duration": 585,
    "start_time": "2023-01-15T10:17:30.248Z"
   },
   {
    "duration": 18,
    "start_time": "2023-01-15T10:17:30.835Z"
   },
   {
    "duration": 462,
    "start_time": "2023-01-15T10:17:30.855Z"
   },
   {
    "duration": 4,
    "start_time": "2023-01-15T10:17:31.319Z"
   },
   {
    "duration": 155,
    "start_time": "2023-01-15T10:17:31.324Z"
   },
   {
    "duration": 432,
    "start_time": "2023-01-15T10:17:31.481Z"
   },
   {
    "duration": 466,
    "start_time": "2023-01-15T10:17:31.922Z"
   },
   {
    "duration": 495,
    "start_time": "2023-01-15T10:17:32.392Z"
   },
   {
    "duration": 23,
    "start_time": "2023-01-15T10:17:32.888Z"
   },
   {
    "duration": 488,
    "start_time": "2023-01-15T10:17:32.912Z"
   },
   {
    "duration": 410,
    "start_time": "2023-01-15T10:17:33.402Z"
   },
   {
    "duration": 57,
    "start_time": "2023-01-15T10:17:33.814Z"
   },
   {
    "duration": 76,
    "start_time": "2023-01-15T10:17:33.872Z"
   },
   {
    "duration": 7,
    "start_time": "2023-01-15T10:17:33.949Z"
   },
   {
    "duration": 11,
    "start_time": "2023-01-15T10:17:33.957Z"
   },
   {
    "duration": 9,
    "start_time": "2023-01-15T10:17:33.970Z"
   },
   {
    "duration": 5,
    "start_time": "2023-01-15T10:17:33.981Z"
   },
   {
    "duration": 171,
    "start_time": "2023-01-15T10:17:33.987Z"
   },
   {
    "duration": 0,
    "start_time": "2023-01-15T10:17:34.160Z"
   },
   {
    "duration": 0,
    "start_time": "2023-01-15T10:17:34.161Z"
   },
   {
    "duration": 0,
    "start_time": "2023-01-15T10:17:34.163Z"
   },
   {
    "duration": 0,
    "start_time": "2023-01-15T10:17:34.164Z"
   },
   {
    "duration": 0,
    "start_time": "2023-01-15T10:17:34.165Z"
   },
   {
    "duration": 0,
    "start_time": "2023-01-15T10:17:34.167Z"
   },
   {
    "duration": 0,
    "start_time": "2023-01-15T10:17:34.168Z"
   },
   {
    "duration": 0,
    "start_time": "2023-01-15T10:17:34.169Z"
   },
   {
    "duration": 0,
    "start_time": "2023-01-15T10:17:34.170Z"
   },
   {
    "duration": 0,
    "start_time": "2023-01-15T10:17:34.171Z"
   },
   {
    "duration": 0,
    "start_time": "2023-01-15T10:17:34.172Z"
   },
   {
    "duration": 0,
    "start_time": "2023-01-15T10:17:34.173Z"
   },
   {
    "duration": 0,
    "start_time": "2023-01-15T10:17:34.174Z"
   },
   {
    "duration": 0,
    "start_time": "2023-01-15T10:17:34.176Z"
   },
   {
    "duration": 0,
    "start_time": "2023-01-15T10:17:34.178Z"
   },
   {
    "duration": 0,
    "start_time": "2023-01-15T10:17:34.179Z"
   },
   {
    "duration": 0,
    "start_time": "2023-01-15T10:17:34.180Z"
   },
   {
    "duration": 0,
    "start_time": "2023-01-15T10:17:34.181Z"
   },
   {
    "duration": 0,
    "start_time": "2023-01-15T10:17:34.183Z"
   },
   {
    "duration": 0,
    "start_time": "2023-01-15T10:17:34.223Z"
   },
   {
    "duration": 0,
    "start_time": "2023-01-15T10:17:34.224Z"
   },
   {
    "duration": 0,
    "start_time": "2023-01-15T10:17:34.225Z"
   },
   {
    "duration": 1569,
    "start_time": "2023-01-15T10:18:57.520Z"
   },
   {
    "duration": 759,
    "start_time": "2023-01-15T10:18:59.091Z"
   },
   {
    "duration": 115,
    "start_time": "2023-01-15T10:18:59.852Z"
   },
   {
    "duration": 17,
    "start_time": "2023-01-15T10:18:59.969Z"
   },
   {
    "duration": 125,
    "start_time": "2023-01-15T10:18:59.988Z"
   },
   {
    "duration": 3,
    "start_time": "2023-01-15T10:19:00.121Z"
   },
   {
    "duration": 93,
    "start_time": "2023-01-15T10:19:00.126Z"
   },
   {
    "duration": 76,
    "start_time": "2023-01-15T10:19:00.221Z"
   },
   {
    "duration": 28,
    "start_time": "2023-01-15T10:19:00.299Z"
   },
   {
    "duration": 299,
    "start_time": "2023-01-15T10:19:00.330Z"
   },
   {
    "duration": 13,
    "start_time": "2023-01-15T10:19:00.631Z"
   },
   {
    "duration": 95,
    "start_time": "2023-01-15T10:19:00.646Z"
   },
   {
    "duration": 155,
    "start_time": "2023-01-15T10:19:00.742Z"
   },
   {
    "duration": 66,
    "start_time": "2023-01-15T10:19:00.899Z"
   },
   {
    "duration": 173,
    "start_time": "2023-01-15T10:19:00.966Z"
   },
   {
    "duration": 361,
    "start_time": "2023-01-15T10:19:01.141Z"
   },
   {
    "duration": 44,
    "start_time": "2023-01-15T10:19:01.503Z"
   },
   {
    "duration": 50,
    "start_time": "2023-01-15T10:19:01.549Z"
   },
   {
    "duration": 522,
    "start_time": "2023-01-15T10:19:01.601Z"
   },
   {
    "duration": 47,
    "start_time": "2023-01-15T10:19:02.124Z"
   },
   {
    "duration": 575,
    "start_time": "2023-01-15T10:19:02.173Z"
   },
   {
    "duration": 17,
    "start_time": "2023-01-15T10:19:02.750Z"
   },
   {
    "duration": 468,
    "start_time": "2023-01-15T10:19:02.769Z"
   },
   {
    "duration": 3,
    "start_time": "2023-01-15T10:19:03.238Z"
   },
   {
    "duration": 189,
    "start_time": "2023-01-15T10:19:03.243Z"
   },
   {
    "duration": 423,
    "start_time": "2023-01-15T10:19:03.433Z"
   },
   {
    "duration": 543,
    "start_time": "2023-01-15T10:19:03.857Z"
   },
   {
    "duration": 494,
    "start_time": "2023-01-15T10:19:04.404Z"
   },
   {
    "duration": 28,
    "start_time": "2023-01-15T10:19:04.900Z"
   },
   {
    "duration": 487,
    "start_time": "2023-01-15T10:19:04.930Z"
   },
   {
    "duration": 402,
    "start_time": "2023-01-15T10:19:05.422Z"
   },
   {
    "duration": 66,
    "start_time": "2023-01-15T10:19:05.826Z"
   },
   {
    "duration": 80,
    "start_time": "2023-01-15T10:19:05.894Z"
   },
   {
    "duration": 8,
    "start_time": "2023-01-15T10:19:05.975Z"
   },
   {
    "duration": 11,
    "start_time": "2023-01-15T10:19:05.985Z"
   },
   {
    "duration": 24,
    "start_time": "2023-01-15T10:19:05.998Z"
   },
   {
    "duration": 3,
    "start_time": "2023-01-15T10:19:06.024Z"
   },
   {
    "duration": 15,
    "start_time": "2023-01-15T10:19:06.029Z"
   },
   {
    "duration": 2384,
    "start_time": "2023-01-15T10:19:06.046Z"
   },
   {
    "duration": 10,
    "start_time": "2023-01-15T10:19:08.432Z"
   },
   {
    "duration": 0,
    "start_time": "2023-01-15T10:19:08.444Z"
   },
   {
    "duration": 0,
    "start_time": "2023-01-15T10:19:08.445Z"
   },
   {
    "duration": 0,
    "start_time": "2023-01-15T10:19:08.447Z"
   },
   {
    "duration": 0,
    "start_time": "2023-01-15T10:19:08.448Z"
   },
   {
    "duration": 0,
    "start_time": "2023-01-15T10:19:08.450Z"
   },
   {
    "duration": 0,
    "start_time": "2023-01-15T10:19:08.451Z"
   },
   {
    "duration": 0,
    "start_time": "2023-01-15T10:19:08.452Z"
   },
   {
    "duration": 0,
    "start_time": "2023-01-15T10:19:08.453Z"
   },
   {
    "duration": 0,
    "start_time": "2023-01-15T10:19:08.454Z"
   },
   {
    "duration": 0,
    "start_time": "2023-01-15T10:19:08.455Z"
   },
   {
    "duration": 0,
    "start_time": "2023-01-15T10:19:08.456Z"
   },
   {
    "duration": 0,
    "start_time": "2023-01-15T10:19:08.457Z"
   },
   {
    "duration": 0,
    "start_time": "2023-01-15T10:19:08.458Z"
   },
   {
    "duration": 0,
    "start_time": "2023-01-15T10:19:08.459Z"
   },
   {
    "duration": 0,
    "start_time": "2023-01-15T10:19:08.460Z"
   },
   {
    "duration": 0,
    "start_time": "2023-01-15T10:19:08.462Z"
   },
   {
    "duration": 0,
    "start_time": "2023-01-15T10:19:08.463Z"
   },
   {
    "duration": 0,
    "start_time": "2023-01-15T10:19:08.464Z"
   },
   {
    "duration": 0,
    "start_time": "2023-01-15T10:19:08.465Z"
   },
   {
    "duration": 0,
    "start_time": "2023-01-15T10:19:08.466Z"
   },
   {
    "duration": 7097,
    "start_time": "2023-01-15T10:21:48.747Z"
   },
   {
    "duration": 1299,
    "start_time": "2023-01-15T10:21:55.846Z"
   },
   {
    "duration": 806,
    "start_time": "2023-01-15T10:21:57.147Z"
   },
   {
    "duration": 122,
    "start_time": "2023-01-15T10:21:57.955Z"
   },
   {
    "duration": 20,
    "start_time": "2023-01-15T10:21:58.080Z"
   },
   {
    "duration": 127,
    "start_time": "2023-01-15T10:21:58.101Z"
   },
   {
    "duration": 6,
    "start_time": "2023-01-15T10:21:58.230Z"
   },
   {
    "duration": 87,
    "start_time": "2023-01-15T10:21:58.238Z"
   },
   {
    "duration": 75,
    "start_time": "2023-01-15T10:21:58.327Z"
   },
   {
    "duration": 18,
    "start_time": "2023-01-15T10:21:58.404Z"
   },
   {
    "duration": 312,
    "start_time": "2023-01-15T10:21:58.424Z"
   },
   {
    "duration": 15,
    "start_time": "2023-01-15T10:21:58.738Z"
   },
   {
    "duration": 87,
    "start_time": "2023-01-15T10:21:58.755Z"
   },
   {
    "duration": 153,
    "start_time": "2023-01-15T10:21:58.844Z"
   },
   {
    "duration": 60,
    "start_time": "2023-01-15T10:21:58.999Z"
   },
   {
    "duration": 161,
    "start_time": "2023-01-15T10:21:59.061Z"
   },
   {
    "duration": 340,
    "start_time": "2023-01-15T10:21:59.223Z"
   },
   {
    "duration": 35,
    "start_time": "2023-01-15T10:21:59.565Z"
   },
   {
    "duration": 57,
    "start_time": "2023-01-15T10:21:59.602Z"
   },
   {
    "duration": 505,
    "start_time": "2023-01-15T10:21:59.661Z"
   },
   {
    "duration": 59,
    "start_time": "2023-01-15T10:22:00.167Z"
   },
   {
    "duration": 549,
    "start_time": "2023-01-15T10:22:00.228Z"
   },
   {
    "duration": 20,
    "start_time": "2023-01-15T10:22:00.779Z"
   },
   {
    "duration": 467,
    "start_time": "2023-01-15T10:22:00.802Z"
   },
   {
    "duration": 3,
    "start_time": "2023-01-15T10:22:01.270Z"
   },
   {
    "duration": 176,
    "start_time": "2023-01-15T10:22:01.275Z"
   },
   {
    "duration": 425,
    "start_time": "2023-01-15T10:22:01.453Z"
   },
   {
    "duration": 496,
    "start_time": "2023-01-15T10:22:01.882Z"
   },
   {
    "duration": 498,
    "start_time": "2023-01-15T10:22:02.379Z"
   },
   {
    "duration": 23,
    "start_time": "2023-01-15T10:22:02.879Z"
   },
   {
    "duration": 502,
    "start_time": "2023-01-15T10:22:02.903Z"
   },
   {
    "duration": 394,
    "start_time": "2023-01-15T10:22:03.407Z"
   },
   {
    "duration": 56,
    "start_time": "2023-01-15T10:22:03.803Z"
   },
   {
    "duration": 77,
    "start_time": "2023-01-15T10:22:03.860Z"
   },
   {
    "duration": 7,
    "start_time": "2023-01-15T10:22:03.939Z"
   },
   {
    "duration": 14,
    "start_time": "2023-01-15T10:22:03.948Z"
   },
   {
    "duration": 19,
    "start_time": "2023-01-15T10:22:03.963Z"
   },
   {
    "duration": 22,
    "start_time": "2023-01-15T10:22:03.983Z"
   },
   {
    "duration": 25,
    "start_time": "2023-01-15T10:22:04.006Z"
   },
   {
    "duration": 403790,
    "start_time": "2023-01-15T10:22:04.033Z"
   },
   {
    "duration": 4,
    "start_time": "2023-01-15T10:28:47.825Z"
   },
   {
    "duration": 431,
    "start_time": "2023-01-15T10:28:47.831Z"
   },
   {
    "duration": 7,
    "start_time": "2023-01-15T10:28:48.263Z"
   },
   {
    "duration": 30,
    "start_time": "2023-01-15T10:28:48.271Z"
   },
   {
    "duration": 33469,
    "start_time": "2023-01-15T10:28:48.303Z"
   },
   {
    "duration": 3,
    "start_time": "2023-01-15T10:29:21.774Z"
   },
   {
    "duration": 261,
    "start_time": "2023-01-15T10:29:21.779Z"
   },
   {
    "duration": 5,
    "start_time": "2023-01-15T10:29:22.042Z"
   },
   {
    "duration": 421,
    "start_time": "2023-01-15T10:29:22.049Z"
   }
  ],
  "colab": {
   "provenance": [],
   "toc_visible": true
  },
  "kernelspec": {
   "display_name": "Python 3 (ipykernel)",
   "language": "python",
   "name": "python3"
  },
  "language_info": {
   "codemirror_mode": {
    "name": "ipython",
    "version": 3
   },
   "file_extension": ".py",
   "mimetype": "text/x-python",
   "name": "python",
   "nbconvert_exporter": "python",
   "pygments_lexer": "ipython3",
   "version": "3.9.12"
  },
  "toc": {
   "base_numbering": 1,
   "nav_menu": {},
   "number_sections": true,
   "sideBar": true,
   "skip_h1_title": true,
   "title_cell": "Содержание",
   "title_sidebar": "Contents",
   "toc_cell": true,
   "toc_position": {
    "height": "calc(100% - 180px)",
    "left": "10px",
    "top": "150px",
    "width": "225px"
   },
   "toc_section_display": true,
   "toc_window_display": false
  }
 },
 "nbformat": 4,
 "nbformat_minor": 1
}
